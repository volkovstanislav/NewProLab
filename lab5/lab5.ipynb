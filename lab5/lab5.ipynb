{
 "cells": [
  {
   "cell_type": "code",
   "execution_count": 38,
   "metadata": {},
   "outputs": [],
   "source": [
    "import re\n",
    "import glob\n",
    "import json\n",
    "import string\n",
    "import pymorphy2\n",
    "import pandas as pd\n",
    "\n",
    "from nltk.corpus import stopwords\n",
    "from nltk.tokenize import sent_tokenize, word_tokenize\n",
    "from sklearn.metrics.pairwise import cosine_similarity\n",
    "from sklearn.feature_extraction.text import TfidfVectorizer\n",
    "\n",
    "path = \"/data/share/lab05data\""
   ]
  },
  {
   "cell_type": "markdown",
   "metadata": {},
   "source": [
    "### Импорт и обработка тестовой выборки"
   ]
  },
  {
   "cell_type": "code",
   "execution_count": 2,
   "metadata": {},
   "outputs": [
    {
     "data": {
      "text/html": [
       "<div>\n",
       "<style scoped>\n",
       "    .dataframe tbody tr th:only-of-type {\n",
       "        vertical-align: middle;\n",
       "    }\n",
       "\n",
       "    .dataframe tbody tr th {\n",
       "        vertical-align: top;\n",
       "    }\n",
       "\n",
       "    .dataframe thead th {\n",
       "        text-align: right;\n",
       "    }\n",
       "</style>\n",
       "<table border=\"1\" class=\"dataframe\">\n",
       "  <thead>\n",
       "    <tr style=\"text-align: right;\">\n",
       "      <th></th>\n",
       "      <th>id</th>\n",
       "      <th>text</th>\n",
       "    </tr>\n",
       "  </thead>\n",
       "  <tbody>\n",
       "    <tr>\n",
       "      <th>0</th>\n",
       "      <td>1</td>\n",
       "      <td>&lt;p&gt;&lt;strong&gt;В наши магазины приходят за красивы...</td>\n",
       "    </tr>\n",
       "    <tr>\n",
       "      <th>1</th>\n",
       "      <td>3587</td>\n",
       "      <td>&lt;strong&gt;Обязанности:&lt;/strong&gt; &lt;ul&gt; &lt;li&gt;Выкладк...</td>\n",
       "    </tr>\n",
       "    <tr>\n",
       "      <th>2</th>\n",
       "      <td>770</td>\n",
       "      <td>&lt;p&gt;&lt;strong&gt;телефон для собеседования +7 978 00...</td>\n",
       "    </tr>\n",
       "    <tr>\n",
       "      <th>3</th>\n",
       "      <td>3593</td>\n",
       "      <td>&lt;p&gt;&lt;strong&gt;Специалист по товародвижению в ночн...</td>\n",
       "    </tr>\n",
       "    <tr>\n",
       "      <th>4</th>\n",
       "      <td>3084</td>\n",
       "      <td>Обязанности: продажа натуральной лечебной прод...</td>\n",
       "    </tr>\n",
       "  </tbody>\n",
       "</table>\n",
       "</div>"
      ],
      "text/plain": [
       "     id                                               text\n",
       "0     1  <p><strong>В наши магазины приходят за красивы...\n",
       "1  3587  <strong>Обязанности:</strong> <ul> <li>Выкладк...\n",
       "2   770  <p><strong>телефон для собеседования +7 978 00...\n",
       "3  3593  <p><strong>Специалист по товародвижению в ночн...\n",
       "4  3084  Обязанности: продажа натуральной лечебной прод..."
      ]
     },
     "execution_count": 2,
     "metadata": {},
     "output_type": "execute_result"
    }
   ],
   "source": [
    "text_id = [1, 3587, 770, 3593, 3084, 3607, 536, 1561, 2588, 3931, 2079, 2481, 2406, 1580, 2605, 2101, 55, 1081, 62, 63, 3649, 3139, 581, 70, 3143, 1098, 1099, 589, 2134, 88, 2649, 357, 2139, 1117, 358, 1634, 189, 1644, 109, 3184, 3188, 2166, 2682, 3198, 3125, 3203, 1669, 646, 3719, 1560, 144, 3730, 1174, 3223, 3738, 3739, 1183, 3744, 1188, 1701, 711, 680, 535, 2174, 1714, 799, 695, 1720, 2462, 1211, 701, 702, 1215, 630, 194, 3783, 3784, 3279, 1150, 2259, 724, 383, 3800, 2265, 3293, 3296, 740, 1767, 3820, 3822, 3824, 241, 3317, 1270, 2006, 1281, 231, 812, 2311, 2830, 2323, 789, 2010, 409, 133, 1311, 2343, 3368, 2860, 3886, 2864, 307, 2357, 2358, 2954, 2362, 3901, 1343, 822, 1345, 1347, 324, 3639, 2377, 312, 3405, 2896, 3300, 3418, 859, 861, 352, 3426, 356, 3429, 2918, 658, 2924, 1909, 2423, 1344, 1407, 2436, 1928, 1418, 3566, 3481, 1428, 406, 1432, 2457, 2288, 2461, 1691, 2977, 2467, 1956, 2981, 2982, 2984, 1961, 939, 429, 2992, 433, 3067, 2036, 2485, 444, 1469, 3920, 3524, 455, 504, 2028, 3025, 3538, 2517, 3542, 2521, 869, 3547, 336, 3038, 2531, 998, 2535, 2025, 1704, 2029, 2030, 510, 1521, 2548, 1525, 870, 836, 1024, 2731, 2646]\n",
    "\n",
    "rows_list_test = []\n",
    "for i in text_id:\n",
    "    # test\n",
    "    text_file = open(path + \"/test_\" + str(i) + \".txt\", \"r\")\n",
    "    if text_file.mode == 'r':\n",
    "        contents =text_file.read()\n",
    "    row = {\"id\":i, \"text\":contents}\n",
    "    rows_list_test.append(row)\n",
    "\n",
    "df_text = pd.DataFrame(rows_list_test, columns=[\"id\",\"text\"])\n",
    "df_text.head()"
   ]
  },
  {
   "cell_type": "code",
   "execution_count": 3,
   "metadata": {},
   "outputs": [
    {
     "data": {
      "text/html": [
       "<div>\n",
       "<style scoped>\n",
       "    .dataframe tbody tr th:only-of-type {\n",
       "        vertical-align: middle;\n",
       "    }\n",
       "\n",
       "    .dataframe tbody tr th {\n",
       "        vertical-align: top;\n",
       "    }\n",
       "\n",
       "    .dataframe thead th {\n",
       "        text-align: right;\n",
       "    }\n",
       "</style>\n",
       "<table border=\"1\" class=\"dataframe\">\n",
       "  <thead>\n",
       "    <tr style=\"text-align: right;\">\n",
       "      <th></th>\n",
       "      <th>text</th>\n",
       "    </tr>\n",
       "  </thead>\n",
       "  <tbody>\n",
       "    <tr>\n",
       "      <th>0</th>\n",
       "      <td>Крупная инвестиционная компания ищет в свою ко...</td>\n",
       "    </tr>\n",
       "    <tr>\n",
       "      <th>1</th>\n",
       "      <td>&lt;p&gt;NetCracker Technology Corp., a large softwa...</td>\n",
       "    </tr>\n",
       "    <tr>\n",
       "      <th>2</th>\n",
       "      <td>&lt;p&gt;ИТ-компания ищет в свою команду талантливог...</td>\n",
       "    </tr>\n",
       "    <tr>\n",
       "      <th>3</th>\n",
       "      <td>&lt;p&gt;Ищем прекрасного программиста 1С в дружный ...</td>\n",
       "    </tr>\n",
       "    <tr>\n",
       "      <th>4</th>\n",
       "      <td>&lt;p&gt;Предлагаем уникальную возможность присоедин...</td>\n",
       "    </tr>\n",
       "  </tbody>\n",
       "</table>\n",
       "</div>"
      ],
      "text/plain": [
       "                                                text\n",
       "0  Крупная инвестиционная компания ищет в свою ко...\n",
       "1  <p>NetCracker Technology Corp., a large softwa...\n",
       "2  <p>ИТ-компания ищет в свою команду талантливог...\n",
       "3  <p>Ищем прекрасного программиста 1С в дружный ...\n",
       "4  <p>Предлагаем уникальную возможность присоедин..."
      ]
     },
     "execution_count": 3,
     "metadata": {},
     "output_type": "execute_result"
    }
   ],
   "source": [
    "txt_files = glob.glob(path + \"/base_*.txt\")\n",
    "rows_list_base = []\n",
    "for file in txt_files:    \n",
    "    open_file = open(file, \"r\")\n",
    "    if open_file.mode == 'r':\n",
    "        contents =open_file.read()\n",
    "    row = {\"text\":contents}\n",
    "    rows_list_base.append(row)\n",
    "\n",
    "df_text_base = pd.DataFrame(rows_list_base, columns=[\"text\"])\n",
    "df_text_base.head()"
   ]
  },
  {
   "cell_type": "code",
   "execution_count": 4,
   "metadata": {},
   "outputs": [],
   "source": [
    "def remove_html_tags(text):\n",
    "    \"\"\"Удалим html теги из текста\"\"\"\n",
    "    clean = re.compile('<.*?>')\n",
    "    return re.sub(clean, '', text)\n",
    "\n",
    "def remove_special_chars(text):\n",
    "    \"\"\"Удалим все кроме букв и пробелов\"\"\"\n",
    "    clean = re.sub('[^А-Яа-я[\" \"]]+', '', text)\n",
    "    clean = clean.translate(str.maketrans('', '', string.punctuation))\n",
    "    return clean\n",
    "\n",
    "def remove_digit_from_text(text):\n",
    "    \"\"\"Удалим цифры из текста\"\"\"\n",
    "    clean = re.sub(r'\\d+', '', text)\n",
    "    return clean\n",
    "\n",
    "def transform_to_lower(text):\n",
    "    \"\"\"Приведем весь текст к нижнему регистру\"\"\"\n",
    "    return text.lower()"
   ]
  },
  {
   "cell_type": "code",
   "execution_count": 5,
   "metadata": {},
   "outputs": [],
   "source": [
    "df_text[\"text\"] = df_text[\"text\"].apply(lambda x: remove_html_tags(x))\n",
    "df_text[\"text\"] = df_text[\"text\"].apply(lambda x: remove_special_chars(x))\n",
    "df_text[\"text\"] = df_text[\"text\"].apply(lambda x: transform_to_lower(x))\n",
    "df_text[\"text\"] = df_text[\"text\"].apply(lambda x: remove_digit_from_text(x))\n",
    "\n",
    "df_text_base[\"text\"] = df_text_base[\"text\"].apply(lambda x: remove_html_tags(x))\n",
    "df_text_base[\"text\"] = df_text_base[\"text\"].apply(lambda x: remove_special_chars(x))\n",
    "df_text_base[\"text\"] = df_text_base[\"text\"].apply(lambda x: transform_to_lower(x))\n",
    "df_text_base[\"text\"] = df_text_base[\"text\"].apply(lambda x: remove_digit_from_text(x))"
   ]
  },
  {
   "cell_type": "code",
   "execution_count": 6,
   "metadata": {},
   "outputs": [
    {
     "data": {
      "text/html": [
       "<div>\n",
       "<style scoped>\n",
       "    .dataframe tbody tr th:only-of-type {\n",
       "        vertical-align: middle;\n",
       "    }\n",
       "\n",
       "    .dataframe tbody tr th {\n",
       "        vertical-align: top;\n",
       "    }\n",
       "\n",
       "    .dataframe thead th {\n",
       "        text-align: right;\n",
       "    }\n",
       "</style>\n",
       "<table border=\"1\" class=\"dataframe\">\n",
       "  <thead>\n",
       "    <tr style=\"text-align: right;\">\n",
       "      <th></th>\n",
       "      <th>id</th>\n",
       "      <th>text</th>\n",
       "    </tr>\n",
       "  </thead>\n",
       "  <tbody>\n",
       "    <tr>\n",
       "      <th>0</th>\n",
       "      <td>1</td>\n",
       "      <td>[в, наши, магазины, приходят, за, красивыми, и...</td>\n",
       "    </tr>\n",
       "    <tr>\n",
       "      <th>1</th>\n",
       "      <td>3587</td>\n",
       "      <td>[обязанности, выкладка, товаров, на, витрины, ...</td>\n",
       "    </tr>\n",
       "    <tr>\n",
       "      <th>2</th>\n",
       "      <td>770</td>\n",
       "      <td>[телефон, для, собеседования, евгений, руковод...</td>\n",
       "    </tr>\n",
       "    <tr>\n",
       "      <th>3</th>\n",
       "      <td>3593</td>\n",
       "      <td>[специалист, по, товародвижению, в, ночное, вр...</td>\n",
       "    </tr>\n",
       "    <tr>\n",
       "      <th>4</th>\n",
       "      <td>3084</td>\n",
       "      <td>[обязанности, продажа, натуральной, лечебной, ...</td>\n",
       "    </tr>\n",
       "  </tbody>\n",
       "</table>\n",
       "</div>"
      ],
      "text/plain": [
       "     id                                               text\n",
       "0     1  [в, наши, магазины, приходят, за, красивыми, и...\n",
       "1  3587  [обязанности, выкладка, товаров, на, витрины, ...\n",
       "2   770  [телефон, для, собеседования, евгений, руковод...\n",
       "3  3593  [специалист, по, товародвижению, в, ночное, вр...\n",
       "4  3084  [обязанности, продажа, натуральной, лечебной, ..."
      ]
     },
     "execution_count": 6,
     "metadata": {},
     "output_type": "execute_result"
    }
   ],
   "source": [
    "# Токенизируем\n",
    "df_text[\"text\"] = df_text[\"text\"].apply(lambda x: word_tokenize(x))\n",
    "df_text_base[\"text\"] = df_text_base[\"text\"].apply(lambda x: word_tokenize(x))\n",
    "df_text.head()"
   ]
  },
  {
   "cell_type": "code",
   "execution_count": 8,
   "metadata": {},
   "outputs": [
    {
     "data": {
      "text/html": [
       "<div>\n",
       "<style scoped>\n",
       "    .dataframe tbody tr th:only-of-type {\n",
       "        vertical-align: middle;\n",
       "    }\n",
       "\n",
       "    .dataframe tbody tr th {\n",
       "        vertical-align: top;\n",
       "    }\n",
       "\n",
       "    .dataframe thead th {\n",
       "        text-align: right;\n",
       "    }\n",
       "</style>\n",
       "<table border=\"1\" class=\"dataframe\">\n",
       "  <thead>\n",
       "    <tr style=\"text-align: right;\">\n",
       "      <th></th>\n",
       "      <th>id</th>\n",
       "      <th>text</th>\n",
       "    </tr>\n",
       "  </thead>\n",
       "  <tbody>\n",
       "    <tr>\n",
       "      <th>0</th>\n",
       "      <td>1</td>\n",
       "      <td>[наши, магазины, приходят, красивыми, удобными...</td>\n",
       "    </tr>\n",
       "    <tr>\n",
       "      <th>1</th>\n",
       "      <td>3587</td>\n",
       "      <td>[обязанности, выкладка, товаров, витрины, пров...</td>\n",
       "    </tr>\n",
       "    <tr>\n",
       "      <th>2</th>\n",
       "      <td>770</td>\n",
       "      <td>[телефон, собеседования, евгений, руководитель...</td>\n",
       "    </tr>\n",
       "    <tr>\n",
       "      <th>3</th>\n",
       "      <td>3593</td>\n",
       "      <td>[специалист, товародвижению, ночное, время, тц...</td>\n",
       "    </tr>\n",
       "    <tr>\n",
       "      <th>4</th>\n",
       "      <td>3084</td>\n",
       "      <td>[обязанности, продажа, натуральной, лечебной, ...</td>\n",
       "    </tr>\n",
       "  </tbody>\n",
       "</table>\n",
       "</div>"
      ],
      "text/plain": [
       "     id                                               text\n",
       "0     1  [наши, магазины, приходят, красивыми, удобными...\n",
       "1  3587  [обязанности, выкладка, товаров, витрины, пров...\n",
       "2   770  [телефон, собеседования, евгений, руководитель...\n",
       "3  3593  [специалист, товародвижению, ночное, время, тц...\n",
       "4  3084  [обязанности, продажа, натуральной, лечебной, ..."
      ]
     },
     "execution_count": 8,
     "metadata": {},
     "output_type": "execute_result"
    }
   ],
   "source": [
    "# Удаляем стоп-слова\n",
    "df_text[\"text\"] = df_text[\"text\"].apply(lambda word_list: [word for word in word_list if word not in stopwords.words('russian')])\n",
    "df_text_base[\"text\"] = df_text_base[\"text\"].apply(lambda word_list: [word for word in word_list if word not in stopwords.words('russian')])\n",
    "df_text.head()"
   ]
  },
  {
   "cell_type": "code",
   "execution_count": 9,
   "metadata": {
    "scrolled": true
   },
   "outputs": [
    {
     "data": {
      "text/html": [
       "<div>\n",
       "<style scoped>\n",
       "    .dataframe tbody tr th:only-of-type {\n",
       "        vertical-align: middle;\n",
       "    }\n",
       "\n",
       "    .dataframe tbody tr th {\n",
       "        vertical-align: top;\n",
       "    }\n",
       "\n",
       "    .dataframe thead th {\n",
       "        text-align: right;\n",
       "    }\n",
       "</style>\n",
       "<table border=\"1\" class=\"dataframe\">\n",
       "  <thead>\n",
       "    <tr style=\"text-align: right;\">\n",
       "      <th></th>\n",
       "      <th>id</th>\n",
       "      <th>text</th>\n",
       "    </tr>\n",
       "  </thead>\n",
       "  <tbody>\n",
       "    <tr>\n",
       "      <th>0</th>\n",
       "      <td>1</td>\n",
       "      <td>[наш, магазин, приходить, красивый, удобный, п...</td>\n",
       "    </tr>\n",
       "    <tr>\n",
       "      <th>1</th>\n",
       "      <td>3587</td>\n",
       "      <td>[обязанность, выкладка, товар, витрина, провер...</td>\n",
       "    </tr>\n",
       "    <tr>\n",
       "      <th>2</th>\n",
       "      <td>770</td>\n",
       "      <td>[телефон, собеседование, евгений, руководитель...</td>\n",
       "    </tr>\n",
       "    <tr>\n",
       "      <th>3</th>\n",
       "      <td>3593</td>\n",
       "      <td>[специалист, товародвижение, ночное, время, тц...</td>\n",
       "    </tr>\n",
       "    <tr>\n",
       "      <th>4</th>\n",
       "      <td>3084</td>\n",
       "      <td>[обязанность, продажа, натуральный, лечебный, ...</td>\n",
       "    </tr>\n",
       "  </tbody>\n",
       "</table>\n",
       "</div>"
      ],
      "text/plain": [
       "     id                                               text\n",
       "0     1  [наш, магазин, приходить, красивый, удобный, п...\n",
       "1  3587  [обязанность, выкладка, товар, витрина, провер...\n",
       "2   770  [телефон, собеседование, евгений, руководитель...\n",
       "3  3593  [специалист, товародвижение, ночное, время, тц...\n",
       "4  3084  [обязанность, продажа, натуральный, лечебный, ..."
      ]
     },
     "execution_count": 9,
     "metadata": {},
     "output_type": "execute_result"
    }
   ],
   "source": [
    "#проведем лемматизацию\n",
    "pymorph = pymorphy2.MorphAnalyzer()\n",
    "\n",
    "df_text[\"text\"] = df_text[\"text\"].apply(lambda word_list: [pymorph.parse(word)[0].normal_form for word in word_list])\n",
    "df_text_base[\"text\"] = df_text_base[\"text\"].apply(lambda word_list: [pymorph.parse(word)[0].normal_form for word in word_list])\n",
    "df_text.head()"
   ]
  },
  {
   "cell_type": "code",
   "execution_count": 16,
   "metadata": {},
   "outputs": [],
   "source": [
    "# Обучаем модель\n",
    "vect = TfidfVectorizer(min_df=1)  \n",
    "def cosine_sim(text1, text2):\n",
    "    tfidf = vect.fit_transform([text1, text2])\n",
    "    return ((tfidf * tfidf.T).A)[0,1]"
   ]
  },
  {
   "cell_type": "code",
   "execution_count": 30,
   "metadata": {},
   "outputs": [],
   "source": [
    "corpus = []\n",
    "for index, row in df_text_base.iterrows():\n",
    "    for word in row[\"text\"]:\n",
    "        corpus.append(word)"
   ]
  },
  {
   "cell_type": "code",
   "execution_count": 70,
   "metadata": {},
   "outputs": [
    {
     "name": "stdout",
     "output_type": "stream",
     "text": [
      "<class 'pandas.core.frame.DataFrame'>\n",
      "RangeIndex: 200 entries, 0 to 199\n",
      "Data columns (total 2 columns):\n",
      "cos    200 non-null float64\n",
      "id     200 non-null int64\n",
      "dtypes: float64(1), int64(1)\n",
      "memory usage: 3.2 KB\n",
      "None\n"
     ]
    },
    {
     "data": {
      "text/html": [
       "<div>\n",
       "<style scoped>\n",
       "    .dataframe tbody tr th:only-of-type {\n",
       "        vertical-align: middle;\n",
       "    }\n",
       "\n",
       "    .dataframe tbody tr th {\n",
       "        vertical-align: top;\n",
       "    }\n",
       "\n",
       "    .dataframe thead th {\n",
       "        text-align: right;\n",
       "    }\n",
       "</style>\n",
       "<table border=\"1\" class=\"dataframe\">\n",
       "  <thead>\n",
       "    <tr style=\"text-align: right;\">\n",
       "      <th></th>\n",
       "      <th>cos</th>\n",
       "      <th>id</th>\n",
       "    </tr>\n",
       "  </thead>\n",
       "  <tbody>\n",
       "    <tr>\n",
       "      <th>0</th>\n",
       "      <td>0.100822</td>\n",
       "      <td>1</td>\n",
       "    </tr>\n",
       "    <tr>\n",
       "      <th>1</th>\n",
       "      <td>0.135880</td>\n",
       "      <td>3587</td>\n",
       "    </tr>\n",
       "    <tr>\n",
       "      <th>2</th>\n",
       "      <td>0.069648</td>\n",
       "      <td>770</td>\n",
       "    </tr>\n",
       "    <tr>\n",
       "      <th>3</th>\n",
       "      <td>0.134977</td>\n",
       "      <td>3593</td>\n",
       "    </tr>\n",
       "    <tr>\n",
       "      <th>4</th>\n",
       "      <td>0.101592</td>\n",
       "      <td>3084</td>\n",
       "    </tr>\n",
       "  </tbody>\n",
       "</table>\n",
       "</div>"
      ],
      "text/plain": [
       "        cos    id\n",
       "0  0.100822     1\n",
       "1  0.135880  3587\n",
       "2  0.069648   770\n",
       "3  0.134977  3593\n",
       "4  0.101592  3084"
      ]
     },
     "execution_count": 70,
     "metadata": {},
     "output_type": "execute_result"
    }
   ],
   "source": [
    "output = []\n",
    "for index, row in df_text.iterrows():\n",
    "    row = {\"id\":row[\"id\"], \"cos\":cosine_sim(' '.join(word for word in row[\"text\"]), ' '.join(word for word in corpus))}\n",
    "    output.append(row)\n",
    "\n",
    "answer = pd.DataFrame(output)\n",
    "print(answer.info())\n",
    "answer.head()"
   ]
  },
  {
   "cell_type": "code",
   "execution_count": 74,
   "metadata": {},
   "outputs": [],
   "source": [
    "defined = []\n",
    "other = []\n",
    "cos_avg = answer[\"cos\"].mean()\n",
    "\n",
    "for index, row in answer.iterrows():\n",
    "    if row[\"cos\"] >= cos_avg:\n",
    "        defined.append(int(row[\"id\"]))\n",
    "    else:\n",
    "        other.append(int(row[\"id\"]))\n",
    "\n",
    "json_dict = {\"defined\":defined,\"other\":other}"
   ]
  },
  {
   "cell_type": "code",
   "execution_count": 75,
   "metadata": {},
   "outputs": [],
   "source": [
    "with open('../lab05.json', 'w') as f:\n",
    "    json.dump(json_dict, f, sort_keys=True)"
   ]
  },
  {
   "cell_type": "code",
   "execution_count": 76,
   "metadata": {},
   "outputs": [
    {
     "name": "stdout",
     "output_type": "stream",
     "text": [
      "{\"defined\": [3607, 536, 55, 3649, 3139, 1098, 1099, 589, 2134, 88, 357, 2139, 358, 1644, 3188, 2166, 3198, 3203, 646, 3719, 3730, 3223, 3738, 3739, 1188, 680, 535, 1211, 701, 1215, 194, 3784, 2259, 3293, 740, 1767, 3820, 3822, 3824, 241, 3317, 1270, 2006, 1281, 2311, 789, 1311, 2343, 3368, 3886, 2864, 2358, 2954, 2362, 3901, 822, 1347, 324, 3405, 2896, 3418, 861, 3426, 3429, 2918, 2924, 2423, 2436, 1928, 1418, 3566, 1428, 1432, 2288, 2977, 939, 429, 2992, 3524, 455, 2517, 3542, 2521, 869, 336, 3038, 2531, 2535, 2025, 1704, 2030, 510, 2548, 2731, 2646], \"other\": [1, 3587, 770, 3593, 3084, 1561, 2588, 3931, 2079, 2481, 2406, 1580, 2605, 2101, 1081, 62, 63, 581, 70, 3143, 2649, 1117, 1634, 189, 109, 3184, 2682, 3125, 1669, 1560, 144, 1174, 1183, 3744, 1701, 711, 2174, 1714, 799, 695, 1720, 2462, 702, 630, 3783, 3279, 1150, 724, 383, 3800, 2265, 3296, 231, 812, 2830, 2323, 2010, 409, 133, 2860, 307, 2357, 1343, 1345, 3639, 2377, 312, 3300, 859, 352, 356, 658, 1909, 1344, 1407, 3481, 406, 2457, 2461, 1691, 2467, 1956, 2981, 2982, 2984, 1961, 433, 3067, 2036, 2485, 444, 1469, 3920, 504, 2028, 3025, 3538, 3547, 998, 2029, 1521, 1525, 870, 836, 1024]}"
     ]
    }
   ],
   "source": [
    "cat ../lab05.json"
   ]
  },
  {
   "cell_type": "code",
   "execution_count": null,
   "metadata": {},
   "outputs": [],
   "source": []
  }
 ],
 "metadata": {
  "kernelspec": {
   "display_name": "Python 3",
   "language": "python",
   "name": "python3"
  },
  "language_info": {
   "codemirror_mode": {
    "name": "ipython",
    "version": 3
   },
   "file_extension": ".py",
   "mimetype": "text/x-python",
   "name": "python",
   "nbconvert_exporter": "python",
   "pygments_lexer": "ipython3",
   "version": "3.6.5"
  }
 },
 "nbformat": 4,
 "nbformat_minor": 2
}
