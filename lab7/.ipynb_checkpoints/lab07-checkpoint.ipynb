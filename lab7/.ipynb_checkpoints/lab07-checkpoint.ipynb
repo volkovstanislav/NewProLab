{
 "cells": [
  {
   "cell_type": "code",
   "execution_count": 6,
   "metadata": {},
   "outputs": [],
   "source": [
    "import re\n",
    "import json\n",
    "import nltk\n",
    "import warnings\n",
    "import pymorphy2\n",
    "import pandas as pd\n",
    "from nltk.corpus import stopwords\n",
    "from sklearn.metrics.pairwise import cosine_similarity\n",
    "from sklearn.feature_extraction.text import TfidfVectorizer\n",
    "\n",
    "from nltk.stem import SnowballStemmer\n",
    "\n",
    "warnings.filterwarnings(\"ignore\")\n",
    "stops_ru = set(stopwords.words('russian'))\n",
    "stops_en = set(stopwords.words('english'))\n",
    "stops_es = set(stopwords.words('spanish'))\n",
    "\n",
    "#Стэммер для испанского языка\n",
    "stemmer_spanish = SnowballStemmer('spanish')"
   ]
  },
  {
   "cell_type": "code",
   "execution_count": null,
   "metadata": {},
   "outputs": [],
   "source": [
    "path = '../DO_record_per_line.json'"
   ]
  },
  {
   "cell_type": "code",
   "execution_count": null,
   "metadata": {},
   "outputs": [],
   "source": [
    "data = pd.read_json(path, lines=True)\n",
    "data.head()"
   ]
  },
  {
   "cell_type": "code",
   "execution_count": null,
   "metadata": {},
   "outputs": [],
   "source": [
    "data.info()"
   ]
  },
  {
   "cell_type": "code",
   "execution_count": null,
   "metadata": {},
   "outputs": [],
   "source": [
    "pred_course = [16871,12234,9029,18030,8170,1200]"
   ]
  },
  {
   "cell_type": "code",
   "execution_count": null,
   "metadata": {},
   "outputs": [],
   "source": [
    "regex = re.compile(r'[\\w\\d]{2,}', re.U)"
   ]
  },
  {
   "cell_type": "code",
   "execution_count": null,
   "metadata": {},
   "outputs": [],
   "source": [
    "data[\"desc_words\"] = data[\"desc\"].apply(lambda x: regex.findall(x.lower()))\n",
    "data.head()"
   ]
  },
  {
   "cell_type": "code",
   "execution_count": null,
   "metadata": {},
   "outputs": [],
   "source": [
    "morph = pymorphy2.MorphAnalyzer()\n",
    "data[\"desc_words\"] = data[\"desc_words\"].apply(lambda x: [morph.parse(tok)[0].normal_form for tok in x])\n",
    "data.head()"
   ]
  },
  {
   "cell_type": "code",
   "execution_count": null,
   "metadata": {},
   "outputs": [],
   "source": [
    "#Уникальные языки курсов\n",
    "data[\"lang\"].value_counts()"
   ]
  },
  {
   "cell_type": "code",
   "execution_count": null,
   "metadata": {},
   "outputs": [],
   "source": [
    "print(data[data[\"id\"].isin(pred_course)][\"lang\"].value_counts())\n",
    "data[data[\"id\"].isin(pred_course)]"
   ]
  },
  {
   "cell_type": "code",
   "execution_count": null,
   "metadata": {},
   "outputs": [],
   "source": [
    "data_ru = data[data[\"lang\"] == \"ru\"].reset_index()\n",
    "print(\"RU - \", data_ru.shape)\n",
    "\n",
    "data_en = data[data[\"lang\"] == \"en\"].reset_index()\n",
    "print(\"EN - \", data_en.shape)\n",
    "\n",
    "data_es = data[data[\"lang\"] == \"es\"].reset_index()\n",
    "print(\"ES - \", data_es.shape)"
   ]
  },
  {
   "cell_type": "markdown",
   "metadata": {},
   "source": [
    "Удаляем стоп-слова"
   ]
  },
  {
   "cell_type": "code",
   "execution_count": null,
   "metadata": {},
   "outputs": [],
   "source": [
    "def remove_stopwords(tokens, stopwords=None, min_length=4):\n",
    "    if not stopwords:\n",
    "        return tokens\n",
    "    stopwords = set(stopwords)\n",
    "    tokens = [tok\n",
    "              for tok in tokens\n",
    "              if tok not in stopwords and len(tok) >= min_length]\n",
    "    return tokens\n",
    "\n",
    "data_ru[\"desc_words\"] = data_ru[\"desc_words\"].apply(lambda x: remove_stopwords(x,stops_ru))\n",
    "data_en[\"desc_words\"] = data_en[\"desc_words\"].apply(lambda x: remove_stopwords(x,stops_en))\n",
    "data_es[\"desc_words\"] = data_es[\"desc_words\"].apply(lambda x: remove_stopwords(x,stops_es))\n",
    "data_ru.head()"
   ]
  },
  {
   "cell_type": "code",
   "execution_count": null,
   "metadata": {},
   "outputs": [],
   "source": [
    "data_ru = data_ru.sort_values(\"id\")\n",
    "data_en = data_en.sort_values(\"id\")\n",
    "data_es = data_es.sort_values(\"id\")\n",
    "data_ru.head()"
   ]
  },
  {
   "cell_type": "markdown",
   "metadata": {},
   "source": [
    "#### Считаем косинусную меру и TF-IDF"
   ]
  },
  {
   "cell_type": "markdown",
   "metadata": {},
   "source": [
    "Русские тексты"
   ]
  },
  {
   "cell_type": "code",
   "execution_count": null,
   "metadata": {},
   "outputs": [],
   "source": [
    "#8170\n",
    "#1200"
   ]
  },
  {
   "cell_type": "code",
   "execution_count": null,
   "metadata": {},
   "outputs": [],
   "source": [
    "ind1 = data_ru[data_ru[\"id\"] == 1200]\n",
    "ind2 = data_ru[data_ru[\"id\"] == 8170]\n",
    "print(ind1.index)\n",
    "print(ind2.index)"
   ]
  },
  {
   "cell_type": "code",
   "execution_count": null,
   "metadata": {},
   "outputs": [],
   "source": [
    "data_ru_t = data_ru.copy()\n",
    "data_ru_t.head()"
   ]
  },
  {
   "cell_type": "code",
   "execution_count": null,
   "metadata": {},
   "outputs": [],
   "source": [
    "b, c = data_ru.iloc[0], data_ru.iloc[444]\n",
    "temp = data_ru.iloc[0].copy()\n",
    "data_ru.iloc[0] = c\n",
    "data_ru.iloc[444] = temp\n",
    "data_ru.head()"
   ]
  },
  {
   "cell_type": "code",
   "execution_count": null,
   "metadata": {},
   "outputs": [],
   "source": [
    "%%time\n",
    "vectorizer_rus = TfidfVectorizer()\n",
    "data_ru[\"desc_words\"] = data_ru[\"desc_words\"].apply(' '.join)\n",
    "matrix = vectorizer_rus.fit_transform(data_ru[\"desc_words\"]).toarray()"
   ]
  },
  {
   "cell_type": "code",
   "execution_count": null,
   "metadata": {},
   "outputs": [],
   "source": [
    "cos_m = cosine_similarity(matrix[0].reshape(1,-1), matrix[1:])\n",
    "cos_m.shape"
   ]
  },
  {
   "cell_type": "code",
   "execution_count": null,
   "metadata": {},
   "outputs": [],
   "source": [
    "cos_m = cos_m.reshape(1230,1)\n",
    "cos_m"
   ]
  },
  {
   "cell_type": "code",
   "execution_count": null,
   "metadata": {},
   "outputs": [],
   "source": [
    "cos_df = pd.DataFrame(cos_m)\n",
    "cos_df.head()"
   ]
  },
  {
   "cell_type": "code",
   "execution_count": null,
   "metadata": {},
   "outputs": [],
   "source": [
    "index_list_ru_1200 = cos_df.sort_values(0,ascending=False).head(10).index\n",
    "index_list_ru_1200"
   ]
  },
  {
   "cell_type": "code",
   "execution_count": null,
   "metadata": {},
   "outputs": [],
   "source": [
    "index_list_ru_1200 = index_list_ru_1200 + 1\n",
    "index_list_ru_1200 = data_ru.ix[index_list_ru_1200][\"id\"].tolist()\n",
    "index_list_ru_1200"
   ]
  },
  {
   "cell_type": "code",
   "execution_count": null,
   "metadata": {},
   "outputs": [],
   "source": [
    "data_ru = data_ru_t.copy()\n",
    "data_ru.head()"
   ]
  },
  {
   "cell_type": "code",
   "execution_count": null,
   "metadata": {},
   "outputs": [],
   "source": [
    "b, c = data_ru.iloc[0], data_ru.iloc[739]\n",
    "temp = data_ru.iloc[0].copy()\n",
    "data_ru.iloc[0] = c\n",
    "data_ru.iloc[739] = temp\n",
    "data_ru.head()"
   ]
  },
  {
   "cell_type": "code",
   "execution_count": null,
   "metadata": {},
   "outputs": [],
   "source": [
    "%%time\n",
    "vectorizer_rus = TfidfVectorizer()\n",
    "data_ru[\"desc_words\"] = data_ru[\"desc_words\"].apply(' '.join)\n",
    "matrix = vectorizer_rus.fit_transform(data_ru[\"desc_words\"]).toarray()"
   ]
  },
  {
   "cell_type": "code",
   "execution_count": null,
   "metadata": {},
   "outputs": [],
   "source": [
    "cos_m = cosine_similarity(matrix[0].reshape(1,-1), matrix[1:])\n",
    "cos_m.shape"
   ]
  },
  {
   "cell_type": "code",
   "execution_count": null,
   "metadata": {},
   "outputs": [],
   "source": [
    "cos_m = cos_m.reshape(1230,1)\n",
    "cos_m"
   ]
  },
  {
   "cell_type": "code",
   "execution_count": null,
   "metadata": {},
   "outputs": [],
   "source": [
    "cos_df = pd.DataFrame(cos_m)\n",
    "cos_df.head()"
   ]
  },
  {
   "cell_type": "code",
   "execution_count": null,
   "metadata": {},
   "outputs": [],
   "source": [
    "index_list_ru_8170 = cos_df.sort_values(0,ascending=False).head(10).index\n",
    "index_list_ru_8170"
   ]
  },
  {
   "cell_type": "code",
   "execution_count": null,
   "metadata": {},
   "outputs": [],
   "source": [
    "index_list_ru_8170 = index_list_ru_8170 + 1\n",
    "index_list_ru_8170 = data_ru.ix[index_list_ru_8170][\"id\"].tolist()\n",
    "index_list_ru_8170"
   ]
  },
  {
   "cell_type": "markdown",
   "metadata": {},
   "source": [
    "Английский"
   ]
  },
  {
   "cell_type": "code",
   "execution_count": null,
   "metadata": {},
   "outputs": [],
   "source": [
    "#12234\n",
    "#16871\n",
    "ind1 = data_en[data_en[\"id\"] == 12234]\n",
    "ind2 = data_en[data_en[\"id\"] == 16871]\n",
    "print(ind1.index)\n",
    "print(ind2.index)"
   ]
  },
  {
   "cell_type": "code",
   "execution_count": null,
   "metadata": {},
   "outputs": [],
   "source": [
    "data_en_t = data_en.copy()\n",
    "data_en_t.head()"
   ]
  },
  {
   "cell_type": "code",
   "execution_count": null,
   "metadata": {},
   "outputs": [],
   "source": [
    "b, c = data_en.iloc[0], data_en.iloc[14517]\n",
    "temp = data_en.iloc[0].copy()\n",
    "data_en.iloc[0] = c\n",
    "data_en.iloc[14517] = temp\n",
    "data_en.head()"
   ]
  },
  {
   "cell_type": "code",
   "execution_count": null,
   "metadata": {},
   "outputs": [],
   "source": [
    "%%time\n",
    "vectorizer_en = TfidfVectorizer()\n",
    "data_en[\"desc_words\"] = data_en[\"desc_words\"].apply(' '.join)\n",
    "matrix = vectorizer_en.fit_transform(data_en[\"desc_words\"]).toarray()"
   ]
  },
  {
   "cell_type": "code",
   "execution_count": null,
   "metadata": {},
   "outputs": [],
   "source": [
    "cos_m = cosine_similarity(matrix[0].reshape(1,-1), matrix[1:])\n",
    "cos_m.shape"
   ]
  },
  {
   "cell_type": "code",
   "execution_count": null,
   "metadata": {},
   "outputs": [],
   "source": [
    "cos_m = cos_m.reshape(24552,1)\n",
    "cos_m"
   ]
  },
  {
   "cell_type": "code",
   "execution_count": null,
   "metadata": {},
   "outputs": [],
   "source": [
    "cos_df = pd.DataFrame(cos_m)\n",
    "cos_df.head()"
   ]
  },
  {
   "cell_type": "code",
   "execution_count": null,
   "metadata": {},
   "outputs": [],
   "source": [
    "index_list_en_16871 = cos_df.sort_values(0,ascending=False).head(10).index\n",
    "index_list_en_16871"
   ]
  },
  {
   "cell_type": "code",
   "execution_count": null,
   "metadata": {},
   "outputs": [],
   "source": [
    "index_list_en_16871 = index_list_en_16871 + 1\n",
    "index_list_en_16871 = data_en.ix[index_list_en_16871][\"id\"].tolist()\n",
    "index_list_en_16871"
   ]
  },
  {
   "cell_type": "code",
   "execution_count": null,
   "metadata": {},
   "outputs": [],
   "source": [
    "data_en = data_en_t.copy()\n",
    "data_en.head()"
   ]
  },
  {
   "cell_type": "code",
   "execution_count": null,
   "metadata": {},
   "outputs": [],
   "source": [
    "b, c = data_en.iloc[0], data_en.iloc[10332]\n",
    "temp = data_en.iloc[0].copy()\n",
    "data_en.iloc[0] = c\n",
    "data_en.iloc[10332] = temp\n",
    "data_en.head()"
   ]
  },
  {
   "cell_type": "code",
   "execution_count": null,
   "metadata": {},
   "outputs": [],
   "source": [
    "%%time\n",
    "vectorizer_en = TfidfVectorizer()\n",
    "data_en[\"desc_words\"] = data_en[\"desc_words\"].apply(' '.join)\n",
    "matrix = vectorizer_en.fit_transform(data_en[\"desc_words\"]).toarray()"
   ]
  },
  {
   "cell_type": "code",
   "execution_count": null,
   "metadata": {},
   "outputs": [],
   "source": [
    "cos_m = cosine_similarity(matrix[0].reshape(1,-1), matrix[1:])\n",
    "cos_m.shape"
   ]
  },
  {
   "cell_type": "code",
   "execution_count": null,
   "metadata": {},
   "outputs": [],
   "source": [
    "cos_m = cos_m.reshape(24552,1)\n",
    "cos_m"
   ]
  },
  {
   "cell_type": "code",
   "execution_count": null,
   "metadata": {},
   "outputs": [],
   "source": [
    "cos_df = pd.DataFrame(cos_m)\n",
    "cos_df.head()"
   ]
  },
  {
   "cell_type": "code",
   "execution_count": null,
   "metadata": {},
   "outputs": [],
   "source": [
    "index_list_en_12234 = cos_df.sort_values(0,ascending=False).head(10).index\n",
    "index_list_en_12234"
   ]
  },
  {
   "cell_type": "code",
   "execution_count": null,
   "metadata": {},
   "outputs": [],
   "source": [
    "index_list_en_12234 = index_list_en_12234 + 1\n",
    "index_list_en_12234 = data_en.ix[index_list_en_12234][\"id\"].tolist()\n",
    "index_list_en_12234"
   ]
  },
  {
   "cell_type": "markdown",
   "metadata": {},
   "source": [
    "Испанский"
   ]
  },
  {
   "cell_type": "code",
   "execution_count": null,
   "metadata": {},
   "outputs": [],
   "source": [
    "#9029\n",
    "#18030\n",
    "ind1 = data_es[data_es[\"id\"] == 9029]\n",
    "ind2 = data_es[data_es[\"id\"] == 18030]\n",
    "print(ind1.index)\n",
    "print(ind2.index)"
   ]
  },
  {
   "cell_type": "code",
   "execution_count": null,
   "metadata": {},
   "outputs": [],
   "source": [
    "data_es_t = data_es.copy()\n",
    "data_es_t.head()"
   ]
  },
  {
   "cell_type": "code",
   "execution_count": null,
   "metadata": {},
   "outputs": [],
   "source": [
    "b, c = data_es.iloc[0], data_es.iloc[256]\n",
    "temp = data_es.iloc[0].copy()\n",
    "data_es.iloc[0] = c\n",
    "data_es.iloc[256] = temp\n",
    "data_es.head()"
   ]
  },
  {
   "cell_type": "code",
   "execution_count": null,
   "metadata": {},
   "outputs": [],
   "source": [
    "%%time\n",
    "vectorizer_es = TfidfVectorizer()\n",
    "data_es[\"desc_words\"] = data_es[\"desc_words\"].apply(' '.join)\n",
    "matrix = vectorizer_es.fit_transform(data_es[\"desc_words\"]).toarray()"
   ]
  },
  {
   "cell_type": "code",
   "execution_count": null,
   "metadata": {},
   "outputs": [],
   "source": [
    "cos_m = cosine_similarity(matrix[0].reshape(1,-1), matrix[1:])\n",
    "cos_m.shape"
   ]
  },
  {
   "cell_type": "code",
   "execution_count": null,
   "metadata": {},
   "outputs": [],
   "source": [
    "cos_m = cos_m.reshape(1373,1)\n",
    "cos_m"
   ]
  },
  {
   "cell_type": "code",
   "execution_count": null,
   "metadata": {},
   "outputs": [],
   "source": [
    "cos_df = pd.DataFrame(cos_m)\n",
    "cos_df.head()"
   ]
  },
  {
   "cell_type": "code",
   "execution_count": null,
   "metadata": {},
   "outputs": [],
   "source": [
    "index_list_es_9029 = cos_df.sort_values(0,ascending=False).head(10).index\n",
    "index_list_es_9029"
   ]
  },
  {
   "cell_type": "code",
   "execution_count": null,
   "metadata": {},
   "outputs": [],
   "source": [
    "index_list_es_9029 = index_list_es_9029 + 1\n",
    "index_list_es_9029 = data_es.ix[index_list_es_9029][\"id\"].tolist()\n",
    "index_list_es_9029"
   ]
  },
  {
   "cell_type": "code",
   "execution_count": null,
   "metadata": {},
   "outputs": [],
   "source": [
    "data_es = data_es_t.copy()\n",
    "data_es.head()"
   ]
  },
  {
   "cell_type": "code",
   "execution_count": null,
   "metadata": {},
   "outputs": [],
   "source": [
    "b, c = data_es.iloc[0], data_es.iloc[978]\n",
    "temp = data_es.iloc[0].copy()\n",
    "data_es.iloc[0] = c\n",
    "data_es.iloc[978] = temp\n",
    "data_es.head()"
   ]
  },
  {
   "cell_type": "code",
   "execution_count": null,
   "metadata": {},
   "outputs": [],
   "source": [
    "%%time\n",
    "vectorizer_es = TfidfVectorizer()\n",
    "data_es[\"desc_words\"] = data_es[\"desc_words\"].apply(' '.join)\n",
    "matrix = vectorizer_es.fit_transform(data_es[\"desc_words\"]).toarray()"
   ]
  },
  {
   "cell_type": "code",
   "execution_count": null,
   "metadata": {},
   "outputs": [],
   "source": [
    "cos_m = cosine_similarity(matrix[0].reshape(1,-1), matrix[1:])\n",
    "cos_m.shape"
   ]
  },
  {
   "cell_type": "code",
   "execution_count": null,
   "metadata": {},
   "outputs": [],
   "source": [
    "cos_m = cos_m.reshape(1373,1)\n",
    "cos_m"
   ]
  },
  {
   "cell_type": "code",
   "execution_count": null,
   "metadata": {},
   "outputs": [],
   "source": [
    "cos_df = pd.DataFrame(cos_m)\n",
    "cos_df.head()"
   ]
  },
  {
   "cell_type": "code",
   "execution_count": null,
   "metadata": {},
   "outputs": [],
   "source": [
    "index_list_es_18030 = cos_df.sort_values(0,ascending=False).head(10).index\n",
    "index_list_es_18030"
   ]
  },
  {
   "cell_type": "code",
   "execution_count": null,
   "metadata": {},
   "outputs": [],
   "source": [
    "index_list_es_18030 = index_list_es_18030 + 1\n",
    "index_list_es_18030 = data_es.ix[index_list_es_18030][\"id\"].tolist()\n",
    "index_list_es_18030"
   ]
  },
  {
   "cell_type": "markdown",
   "metadata": {},
   "source": [
    "ВЫГРУЗКА"
   ]
  },
  {
   "cell_type": "code",
   "execution_count": null,
   "metadata": {},
   "outputs": [],
   "source": [
    "output = {\n",
    "    \"16871\":index_list_en_16871, \n",
    "    \"12234\": index_list_en_12234, \n",
    "    \"9029\": index_list_es_9029, \n",
    "    \"18030\": index_list_es_18030,\n",
    "    \"8170\": index_list_ru_8170, \n",
    "    \"1200\": index_list_ru_1200}\n",
    "output"
   ]
  },
  {
   "cell_type": "code",
   "execution_count": null,
   "metadata": {},
   "outputs": [],
   "source": [
    "json_data = json.dumps(output)\n",
    "json_data"
   ]
  },
  {
   "cell_type": "code",
   "execution_count": null,
   "metadata": {},
   "outputs": [],
   "source": [
    "with open('../lab07.json', 'w') as f:\n",
    "    json.dump(output, f)"
   ]
  },
  {
   "cell_type": "code",
   "execution_count": null,
   "metadata": {},
   "outputs": [],
   "source": [
    "with open('../lab07s.json', 'w') as f:\n",
    "    json.dump(output, f)"
   ]
  },
  {
   "cell_type": "code",
   "execution_count": null,
   "metadata": {},
   "outputs": [],
   "source": []
  }
 ],
 "metadata": {
  "kernelspec": {
   "display_name": "Python 3",
   "language": "python",
   "name": "python3"
  },
  "language_info": {
   "codemirror_mode": {
    "name": "ipython",
    "version": 3
   },
   "file_extension": ".py",
   "mimetype": "text/x-python",
   "name": "python",
   "nbconvert_exporter": "python",
   "pygments_lexer": "ipython3",
   "version": "3.6.5"
  }
 },
 "nbformat": 4,
 "nbformat_minor": 2
}
