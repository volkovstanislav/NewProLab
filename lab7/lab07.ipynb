{
 "cells": [
  {
   "cell_type": "code",
   "execution_count": 1,
   "metadata": {},
   "outputs": [],
   "source": [
    "import re\n",
    "import json\n",
    "import nltk\n",
    "import warnings\n",
    "import pymorphy2\n",
    "import pandas as pd\n",
    "from nltk.corpus import stopwords\n",
    "from sklearn.metrics.pairwise import cosine_similarity\n",
    "from sklearn.feature_extraction.text import TfidfVectorizer\n",
    "\n",
    "warnings.filterwarnings(\"ignore\")\n",
    "stops_ru = set(stopwords.words('russian'))\n",
    "stops_en = set(stopwords.words('english'))\n",
    "stops_es = set(stopwords.words('spanish'))\n",
    "\n",
    "#Лемматизация на английском\n",
    "from nltk.stem.wordnet import WordNetLemmatizer\n",
    "\n",
    "#Стэммер для испанского языка\n",
    "from nltk.stem.snowball import SnowballStemmer"
   ]
  },
  {
   "cell_type": "code",
   "execution_count": 2,
   "metadata": {},
   "outputs": [],
   "source": [
    "path = '../DO_record_per_line.json'"
   ]
  },
  {
   "cell_type": "code",
   "execution_count": 3,
   "metadata": {
    "collapsed": true
   },
   "outputs": [
    {
     "data": {
      "text/html": [
       "<div>\n",
       "<style scoped>\n",
       "    .dataframe tbody tr th:only-of-type {\n",
       "        vertical-align: middle;\n",
       "    }\n",
       "\n",
       "    .dataframe tbody tr th {\n",
       "        vertical-align: top;\n",
       "    }\n",
       "\n",
       "    .dataframe thead th {\n",
       "        text-align: right;\n",
       "    }\n",
       "</style>\n",
       "<table border=\"1\" class=\"dataframe\">\n",
       "  <thead>\n",
       "    <tr style=\"text-align: right;\">\n",
       "      <th></th>\n",
       "      <th>cat</th>\n",
       "      <th>desc</th>\n",
       "      <th>id</th>\n",
       "      <th>lang</th>\n",
       "      <th>name</th>\n",
       "      <th>provider</th>\n",
       "    </tr>\n",
       "  </thead>\n",
       "  <tbody>\n",
       "    <tr>\n",
       "      <th>0</th>\n",
       "      <td>3/business_management|6/economics_finance</td>\n",
       "      <td>This course introduces the basic financial sta...</td>\n",
       "      <td>4</td>\n",
       "      <td>en</td>\n",
       "      <td>Accounting Cycle: The Foundation of Business M...</td>\n",
       "      <td>Canvas Network</td>\n",
       "    </tr>\n",
       "    <tr>\n",
       "      <th>1</th>\n",
       "      <td>11/law</td>\n",
       "      <td>This online course will introduce you to Ameri...</td>\n",
       "      <td>5</td>\n",
       "      <td>en</td>\n",
       "      <td>American Counter Terrorism Law</td>\n",
       "      <td>Canvas Network</td>\n",
       "    </tr>\n",
       "    <tr>\n",
       "      <th>2</th>\n",
       "      <td>5/computer_science|15/mathematics_statistics_a...</td>\n",
       "      <td>This course is taught in French Vous voulez co...</td>\n",
       "      <td>6</td>\n",
       "      <td>fr</td>\n",
       "      <td>Arithmétique: en route pour la cryptographie</td>\n",
       "      <td>Canvas Network</td>\n",
       "    </tr>\n",
       "    <tr>\n",
       "      <th>3</th>\n",
       "      <td>14/social_sciences</td>\n",
       "      <td>We live in a digitally connected world. The wa...</td>\n",
       "      <td>7</td>\n",
       "      <td>en</td>\n",
       "      <td>Becoming a Dynamic Educator</td>\n",
       "      <td>Canvas Network</td>\n",
       "    </tr>\n",
       "    <tr>\n",
       "      <th>4</th>\n",
       "      <td>2/biology_life_sciences</td>\n",
       "      <td>This self-paced course is designed to show tha...</td>\n",
       "      <td>8</td>\n",
       "      <td>en</td>\n",
       "      <td>Bioethics</td>\n",
       "      <td>Canvas Network</td>\n",
       "    </tr>\n",
       "  </tbody>\n",
       "</table>\n",
       "</div>"
      ],
      "text/plain": [
       "                                                 cat  \\\n",
       "0          3/business_management|6/economics_finance   \n",
       "1                                             11/law   \n",
       "2  5/computer_science|15/mathematics_statistics_a...   \n",
       "3                                 14/social_sciences   \n",
       "4                            2/biology_life_sciences   \n",
       "\n",
       "                                                desc  id lang  \\\n",
       "0  This course introduces the basic financial sta...   4   en   \n",
       "1  This online course will introduce you to Ameri...   5   en   \n",
       "2  This course is taught in French Vous voulez co...   6   fr   \n",
       "3  We live in a digitally connected world. The wa...   7   en   \n",
       "4  This self-paced course is designed to show tha...   8   en   \n",
       "\n",
       "                                                name        provider  \n",
       "0  Accounting Cycle: The Foundation of Business M...  Canvas Network  \n",
       "1                     American Counter Terrorism Law  Canvas Network  \n",
       "2       Arithmétique: en route pour la cryptographie  Canvas Network  \n",
       "3                        Becoming a Dynamic Educator  Canvas Network  \n",
       "4                                          Bioethics  Canvas Network  "
      ]
     },
     "execution_count": 3,
     "metadata": {},
     "output_type": "execute_result"
    }
   ],
   "source": [
    "data = pd.read_json(path, lines=True)\n",
    "data.head()"
   ]
  },
  {
   "cell_type": "code",
   "execution_count": 4,
   "metadata": {},
   "outputs": [
    {
     "name": "stdout",
     "output_type": "stream",
     "text": [
      "<class 'pandas.core.frame.DataFrame'>\n",
      "RangeIndex: 28153 entries, 0 to 28152\n",
      "Data columns (total 6 columns):\n",
      "cat         28153 non-null object\n",
      "desc        28153 non-null object\n",
      "id          28153 non-null int64\n",
      "lang        28153 non-null object\n",
      "name        28153 non-null object\n",
      "provider    28153 non-null object\n",
      "dtypes: int64(1), object(5)\n",
      "memory usage: 1.3+ MB\n"
     ]
    }
   ],
   "source": [
    "data.info()"
   ]
  },
  {
   "cell_type": "code",
   "execution_count": 5,
   "metadata": {},
   "outputs": [],
   "source": [
    "pred_course = [16871,12234,9029,18030,8170,1200]"
   ]
  },
  {
   "cell_type": "code",
   "execution_count": 6,
   "metadata": {},
   "outputs": [],
   "source": [
    "regex = re.compile(r'[\\w\\d]{2,}', re.U)"
   ]
  },
  {
   "cell_type": "code",
   "execution_count": 7,
   "metadata": {},
   "outputs": [
    {
     "data": {
      "text/html": [
       "<div>\n",
       "<style scoped>\n",
       "    .dataframe tbody tr th:only-of-type {\n",
       "        vertical-align: middle;\n",
       "    }\n",
       "\n",
       "    .dataframe tbody tr th {\n",
       "        vertical-align: top;\n",
       "    }\n",
       "\n",
       "    .dataframe thead th {\n",
       "        text-align: right;\n",
       "    }\n",
       "</style>\n",
       "<table border=\"1\" class=\"dataframe\">\n",
       "  <thead>\n",
       "    <tr style=\"text-align: right;\">\n",
       "      <th></th>\n",
       "      <th>cat</th>\n",
       "      <th>desc</th>\n",
       "      <th>id</th>\n",
       "      <th>lang</th>\n",
       "      <th>name</th>\n",
       "      <th>provider</th>\n",
       "      <th>desc_words</th>\n",
       "    </tr>\n",
       "  </thead>\n",
       "  <tbody>\n",
       "    <tr>\n",
       "      <th>0</th>\n",
       "      <td>3/business_management|6/economics_finance</td>\n",
       "      <td>This course introduces the basic financial sta...</td>\n",
       "      <td>4</td>\n",
       "      <td>en</td>\n",
       "      <td>Accounting Cycle: The Foundation of Business M...</td>\n",
       "      <td>Canvas Network</td>\n",
       "      <td>[this, course, introduces, the, basic, financi...</td>\n",
       "    </tr>\n",
       "    <tr>\n",
       "      <th>1</th>\n",
       "      <td>11/law</td>\n",
       "      <td>This online course will introduce you to Ameri...</td>\n",
       "      <td>5</td>\n",
       "      <td>en</td>\n",
       "      <td>American Counter Terrorism Law</td>\n",
       "      <td>Canvas Network</td>\n",
       "      <td>[this, online, course, will, introduce, you, t...</td>\n",
       "    </tr>\n",
       "    <tr>\n",
       "      <th>2</th>\n",
       "      <td>5/computer_science|15/mathematics_statistics_a...</td>\n",
       "      <td>This course is taught in French Vous voulez co...</td>\n",
       "      <td>6</td>\n",
       "      <td>fr</td>\n",
       "      <td>Arithmétique: en route pour la cryptographie</td>\n",
       "      <td>Canvas Network</td>\n",
       "      <td>[this, course, is, taught, in, french, vous, v...</td>\n",
       "    </tr>\n",
       "    <tr>\n",
       "      <th>3</th>\n",
       "      <td>14/social_sciences</td>\n",
       "      <td>We live in a digitally connected world. The wa...</td>\n",
       "      <td>7</td>\n",
       "      <td>en</td>\n",
       "      <td>Becoming a Dynamic Educator</td>\n",
       "      <td>Canvas Network</td>\n",
       "      <td>[we, live, in, digitally, connected, world, th...</td>\n",
       "    </tr>\n",
       "    <tr>\n",
       "      <th>4</th>\n",
       "      <td>2/biology_life_sciences</td>\n",
       "      <td>This self-paced course is designed to show tha...</td>\n",
       "      <td>8</td>\n",
       "      <td>en</td>\n",
       "      <td>Bioethics</td>\n",
       "      <td>Canvas Network</td>\n",
       "      <td>[this, self, paced, course, is, designed, to, ...</td>\n",
       "    </tr>\n",
       "  </tbody>\n",
       "</table>\n",
       "</div>"
      ],
      "text/plain": [
       "                                                 cat  \\\n",
       "0          3/business_management|6/economics_finance   \n",
       "1                                             11/law   \n",
       "2  5/computer_science|15/mathematics_statistics_a...   \n",
       "3                                 14/social_sciences   \n",
       "4                            2/biology_life_sciences   \n",
       "\n",
       "                                                desc  id lang  \\\n",
       "0  This course introduces the basic financial sta...   4   en   \n",
       "1  This online course will introduce you to Ameri...   5   en   \n",
       "2  This course is taught in French Vous voulez co...   6   fr   \n",
       "3  We live in a digitally connected world. The wa...   7   en   \n",
       "4  This self-paced course is designed to show tha...   8   en   \n",
       "\n",
       "                                                name        provider  \\\n",
       "0  Accounting Cycle: The Foundation of Business M...  Canvas Network   \n",
       "1                     American Counter Terrorism Law  Canvas Network   \n",
       "2       Arithmétique: en route pour la cryptographie  Canvas Network   \n",
       "3                        Becoming a Dynamic Educator  Canvas Network   \n",
       "4                                          Bioethics  Canvas Network   \n",
       "\n",
       "                                          desc_words  \n",
       "0  [this, course, introduces, the, basic, financi...  \n",
       "1  [this, online, course, will, introduce, you, t...  \n",
       "2  [this, course, is, taught, in, french, vous, v...  \n",
       "3  [we, live, in, digitally, connected, world, th...  \n",
       "4  [this, self, paced, course, is, designed, to, ...  "
      ]
     },
     "execution_count": 7,
     "metadata": {},
     "output_type": "execute_result"
    }
   ],
   "source": [
    "data[\"desc_words\"] = data[\"desc\"].apply(lambda x: regex.findall(x.lower()))\n",
    "data.head()"
   ]
  },
  {
   "cell_type": "code",
   "execution_count": 8,
   "metadata": {},
   "outputs": [
    {
     "data": {
      "text/plain": [
       "en    24553\n",
       "es     1374\n",
       "ru     1231\n",
       "pt      187\n",
       "zh      169\n",
       "de      166\n",
       "tr      120\n",
       "fr      104\n",
       "ja       77\n",
       "it       62\n",
       "ar       34\n",
       "ur       11\n",
       "he        8\n",
       "nl        6\n",
       "ca        6\n",
       "hi        6\n",
       "sk        5\n",
       "el        5\n",
       "hr        4\n",
       "ko        3\n",
       "da        3\n",
       "fi        2\n",
       "hu        2\n",
       "nb        2\n",
       "af        2\n",
       "bg        2\n",
       "uz        1\n",
       "pl        1\n",
       "sv        1\n",
       "et        1\n",
       "sw        1\n",
       "vi        1\n",
       "ms        1\n",
       "fa        1\n",
       "id        1\n",
       "Name: lang, dtype: int64"
      ]
     },
     "execution_count": 8,
     "metadata": {},
     "output_type": "execute_result"
    }
   ],
   "source": [
    "#Уникальные языки курсов\n",
    "data[\"lang\"].value_counts()"
   ]
  },
  {
   "cell_type": "code",
   "execution_count": 9,
   "metadata": {},
   "outputs": [
    {
     "name": "stdout",
     "output_type": "stream",
     "text": [
      "ru    2\n",
      "en    2\n",
      "es    2\n",
      "Name: lang, dtype: int64\n"
     ]
    },
    {
     "data": {
      "text/html": [
       "<div>\n",
       "<style scoped>\n",
       "    .dataframe tbody tr th:only-of-type {\n",
       "        vertical-align: middle;\n",
       "    }\n",
       "\n",
       "    .dataframe tbody tr th {\n",
       "        vertical-align: top;\n",
       "    }\n",
       "\n",
       "    .dataframe thead th {\n",
       "        text-align: right;\n",
       "    }\n",
       "</style>\n",
       "<table border=\"1\" class=\"dataframe\">\n",
       "  <thead>\n",
       "    <tr style=\"text-align: right;\">\n",
       "      <th></th>\n",
       "      <th>cat</th>\n",
       "      <th>desc</th>\n",
       "      <th>id</th>\n",
       "      <th>lang</th>\n",
       "      <th>name</th>\n",
       "      <th>provider</th>\n",
       "      <th>desc_words</th>\n",
       "    </tr>\n",
       "  </thead>\n",
       "  <tbody>\n",
       "    <tr>\n",
       "      <th>1191</th>\n",
       "      <td>5/computer_science</td>\n",
       "      <td>В курсе представлены понятия и положения теори...</td>\n",
       "      <td>1200</td>\n",
       "      <td>ru</td>\n",
       "      <td>Современные операционные системы</td>\n",
       "      <td>Intuit</td>\n",
       "      <td>[курсе, представлены, понятия, положения, теор...</td>\n",
       "    </tr>\n",
       "    <tr>\n",
       "      <th>8148</th>\n",
       "      <td>5/computer_science</td>\n",
       "      <td>В курсе представлены новые результаты авторов ...</td>\n",
       "      <td>8170</td>\n",
       "      <td>ru</td>\n",
       "      <td>Разработка приложений для мобильных интеллекту...</td>\n",
       "      <td>Intuit</td>\n",
       "      <td>[курсе, представлены, новые, результаты, автор...</td>\n",
       "    </tr>\n",
       "    <tr>\n",
       "      <th>8999</th>\n",
       "      <td>3/business_management</td>\n",
       "      <td>Curso de Bolsa para principiantes Un curso to...</td>\n",
       "      <td>9029</td>\n",
       "      <td>es</td>\n",
       "      <td>Aprende a Ganar Dinero en la Bolsa by Diego Qu...</td>\n",
       "      <td>Udemy</td>\n",
       "      <td>[curso, de, bolsa, para, principiantes, un, cu...</td>\n",
       "    </tr>\n",
       "    <tr>\n",
       "      <th>12204</th>\n",
       "      <td>15/mathematics_statistics_and_data_analysis</td>\n",
       "      <td>This graduate-level course is a computationall...</td>\n",
       "      <td>12234</td>\n",
       "      <td>en</td>\n",
       "      <td>Elliptic Curves</td>\n",
       "      <td>MIT OpenCourseWare</td>\n",
       "      <td>[this, graduate, level, course, is, computatio...</td>\n",
       "    </tr>\n",
       "    <tr>\n",
       "      <th>16826</th>\n",
       "      <td>3/business_management</td>\n",
       "      <td>A course covering International Accounting St...</td>\n",
       "      <td>16871</td>\n",
       "      <td>en</td>\n",
       "      <td>IAS37 - Provisions, Contingents Liabilities &amp; ...</td>\n",
       "      <td>Udemy</td>\n",
       "      <td>[course, covering, international, accounting, ...</td>\n",
       "    </tr>\n",
       "    <tr>\n",
       "      <th>17977</th>\n",
       "      <td></td>\n",
       "      <td>Prácticas para convertirse en un gran orador,...</td>\n",
       "      <td>18030</td>\n",
       "      <td>es</td>\n",
       "      <td>Ejercicios Preparatorios Para Hablar en Públic...</td>\n",
       "      <td>Udemy</td>\n",
       "      <td>[prácticas, para, convertirse, en, un, gran, o...</td>\n",
       "    </tr>\n",
       "  </tbody>\n",
       "</table>\n",
       "</div>"
      ],
      "text/plain": [
       "                                               cat  \\\n",
       "1191                            5/computer_science   \n",
       "8148                            5/computer_science   \n",
       "8999                         3/business_management   \n",
       "12204  15/mathematics_statistics_and_data_analysis   \n",
       "16826                        3/business_management   \n",
       "17977                                                \n",
       "\n",
       "                                                    desc     id lang  \\\n",
       "1191   В курсе представлены понятия и положения теори...   1200   ru   \n",
       "8148   В курсе представлены новые результаты авторов ...   8170   ru   \n",
       "8999    Curso de Bolsa para principiantes Un curso to...   9029   es   \n",
       "12204  This graduate-level course is a computationall...  12234   en   \n",
       "16826   A course covering International Accounting St...  16871   en   \n",
       "17977   Prácticas para convertirse en un gran orador,...  18030   es   \n",
       "\n",
       "                                                    name            provider  \\\n",
       "1191                    Современные операционные системы              Intuit   \n",
       "8148   Разработка приложений для мобильных интеллекту...              Intuit   \n",
       "8999   Aprende a Ganar Dinero en la Bolsa by Diego Qu...               Udemy   \n",
       "12204                                    Elliptic Curves  MIT OpenCourseWare   \n",
       "16826  IAS37 - Provisions, Contingents Liabilities & ...               Udemy   \n",
       "17977  Ejercicios Preparatorios Para Hablar en Públic...               Udemy   \n",
       "\n",
       "                                              desc_words  \n",
       "1191   [курсе, представлены, понятия, положения, теор...  \n",
       "8148   [курсе, представлены, новые, результаты, автор...  \n",
       "8999   [curso, de, bolsa, para, principiantes, un, cu...  \n",
       "12204  [this, graduate, level, course, is, computatio...  \n",
       "16826  [course, covering, international, accounting, ...  \n",
       "17977  [prácticas, para, convertirse, en, un, gran, o...  "
      ]
     },
     "execution_count": 9,
     "metadata": {},
     "output_type": "execute_result"
    }
   ],
   "source": [
    "# Курсы для рекомендаций\n",
    "print(data[data[\"id\"].isin(pred_course)][\"lang\"].value_counts())\n",
    "data[data[\"id\"].isin(pred_course)]"
   ]
  },
  {
   "cell_type": "code",
   "execution_count": 10,
   "metadata": {},
   "outputs": [
    {
     "name": "stdout",
     "output_type": "stream",
     "text": [
      "RU -  (1231, 8)\n",
      "EN -  (24553, 8)\n",
      "ES -  (1374, 8)\n"
     ]
    }
   ],
   "source": [
    "data_ru = data[data[\"lang\"] == \"ru\"].reset_index()\n",
    "print(\"RU - \", data_ru.shape)\n",
    "\n",
    "data_en = data[data[\"lang\"] == \"en\"].reset_index()\n",
    "print(\"EN - \", data_en.shape)\n",
    "\n",
    "data_es = data[data[\"lang\"] == \"es\"].reset_index()\n",
    "print(\"ES - \", data_es.shape)"
   ]
  },
  {
   "cell_type": "code",
   "execution_count": 11,
   "metadata": {},
   "outputs": [
    {
     "data": {
      "text/html": [
       "<div>\n",
       "<style scoped>\n",
       "    .dataframe tbody tr th:only-of-type {\n",
       "        vertical-align: middle;\n",
       "    }\n",
       "\n",
       "    .dataframe tbody tr th {\n",
       "        vertical-align: top;\n",
       "    }\n",
       "\n",
       "    .dataframe thead th {\n",
       "        text-align: right;\n",
       "    }\n",
       "</style>\n",
       "<table border=\"1\" class=\"dataframe\">\n",
       "  <thead>\n",
       "    <tr style=\"text-align: right;\">\n",
       "      <th></th>\n",
       "      <th>index</th>\n",
       "      <th>cat</th>\n",
       "      <th>desc</th>\n",
       "      <th>id</th>\n",
       "      <th>lang</th>\n",
       "      <th>name</th>\n",
       "      <th>provider</th>\n",
       "      <th>desc_words</th>\n",
       "    </tr>\n",
       "  </thead>\n",
       "  <tbody>\n",
       "    <tr>\n",
       "      <th>0</th>\n",
       "      <td>42</td>\n",
       "      <td>5/computer_science</td>\n",
       "      <td>Часть 1. Продвинутые структуры данных\\r\\nПриор...</td>\n",
       "      <td>46</td>\n",
       "      <td>ru</td>\n",
       "      <td>Дополнительные главы алгоритмов</td>\n",
       "      <td>Computer Science Center</td>\n",
       "      <td>[часть, продвинуть, структура, дать, приоритет...</td>\n",
       "    </tr>\n",
       "    <tr>\n",
       "      <th>1</th>\n",
       "      <td>43</td>\n",
       "      <td>5/computer_science</td>\n",
       "      <td>Splay-дерево и декартово дерево\\r\\nХеширование...</td>\n",
       "      <td>47</td>\n",
       "      <td>ru</td>\n",
       "      <td>Алгоритмы и структуры данных 2</td>\n",
       "      <td>Computer Science Center</td>\n",
       "      <td>[splay, дерево, декартов, дерево, хеширование,...</td>\n",
       "    </tr>\n",
       "    <tr>\n",
       "      <th>2</th>\n",
       "      <td>44</td>\n",
       "      <td>5/computer_science</td>\n",
       "      <td>Курс посвящён теоретическим и практическим асп...</td>\n",
       "      <td>48</td>\n",
       "      <td>ru</td>\n",
       "      <td>Технологии хранения и обработки больших объёмо...</td>\n",
       "      <td>Computer Science Center</td>\n",
       "      <td>[курс, посвятить, теоретический, практический,...</td>\n",
       "    </tr>\n",
       "    <tr>\n",
       "      <th>3</th>\n",
       "      <td>45</td>\n",
       "      <td>2/biology_life_sciences|5/computer_science</td>\n",
       "      <td>Биоинформатика — это быстро растущий раздел co...</td>\n",
       "      <td>49</td>\n",
       "      <td>ru</td>\n",
       "      <td>Алгоритмы в биоинформатике</td>\n",
       "      <td>Computer Science Center</td>\n",
       "      <td>[биоинформатика, это, быстро, расти, раздел, c...</td>\n",
       "    </tr>\n",
       "    <tr>\n",
       "      <th>4</th>\n",
       "      <td>46</td>\n",
       "      <td>5/computer_science|15/mathematics_statistics_a...</td>\n",
       "      <td>Курс знакомит со сложностью вероятностных вычи...</td>\n",
       "      <td>50</td>\n",
       "      <td>ru</td>\n",
       "      <td>Сложность вычислений и основы криптографии</td>\n",
       "      <td>Computer Science Center</td>\n",
       "      <td>[курс, знакомить, с, сложность, вероятностный,...</td>\n",
       "    </tr>\n",
       "  </tbody>\n",
       "</table>\n",
       "</div>"
      ],
      "text/plain": [
       "   index                                                cat  \\\n",
       "0     42                                 5/computer_science   \n",
       "1     43                                 5/computer_science   \n",
       "2     44                                 5/computer_science   \n",
       "3     45         2/biology_life_sciences|5/computer_science   \n",
       "4     46  5/computer_science|15/mathematics_statistics_a...   \n",
       "\n",
       "                                                desc  id lang  \\\n",
       "0  Часть 1. Продвинутые структуры данных\\r\\nПриор...  46   ru   \n",
       "1  Splay-дерево и декартово дерево\\r\\nХеширование...  47   ru   \n",
       "2  Курс посвящён теоретическим и практическим асп...  48   ru   \n",
       "3  Биоинформатика — это быстро растущий раздел co...  49   ru   \n",
       "4  Курс знакомит со сложностью вероятностных вычи...  50   ru   \n",
       "\n",
       "                                                name                 provider  \\\n",
       "0                    Дополнительные главы алгоритмов  Computer Science Center   \n",
       "1                     Алгоритмы и структуры данных 2  Computer Science Center   \n",
       "2  Технологии хранения и обработки больших объёмо...  Computer Science Center   \n",
       "3                         Алгоритмы в биоинформатике  Computer Science Center   \n",
       "4         Сложность вычислений и основы криптографии  Computer Science Center   \n",
       "\n",
       "                                          desc_words  \n",
       "0  [часть, продвинуть, структура, дать, приоритет...  \n",
       "1  [splay, дерево, декартов, дерево, хеширование,...  \n",
       "2  [курс, посвятить, теоретический, практический,...  \n",
       "3  [биоинформатика, это, быстро, расти, раздел, c...  \n",
       "4  [курс, знакомить, с, сложность, вероятностный,...  "
      ]
     },
     "execution_count": 11,
     "metadata": {},
     "output_type": "execute_result"
    }
   ],
   "source": [
    "morph = pymorphy2.MorphAnalyzer()\n",
    "data_ru[\"desc_words\"] = data_ru[\"desc_words\"].apply(lambda x: [morph.parse(tok)[0].normal_form for tok in x])\n",
    "data_ru.head()"
   ]
  },
  {
   "cell_type": "code",
   "execution_count": 12,
   "metadata": {},
   "outputs": [
    {
     "data": {
      "text/html": [
       "<div>\n",
       "<style scoped>\n",
       "    .dataframe tbody tr th:only-of-type {\n",
       "        vertical-align: middle;\n",
       "    }\n",
       "\n",
       "    .dataframe tbody tr th {\n",
       "        vertical-align: top;\n",
       "    }\n",
       "\n",
       "    .dataframe thead th {\n",
       "        text-align: right;\n",
       "    }\n",
       "</style>\n",
       "<table border=\"1\" class=\"dataframe\">\n",
       "  <thead>\n",
       "    <tr style=\"text-align: right;\">\n",
       "      <th></th>\n",
       "      <th>index</th>\n",
       "      <th>cat</th>\n",
       "      <th>desc</th>\n",
       "      <th>id</th>\n",
       "      <th>lang</th>\n",
       "      <th>name</th>\n",
       "      <th>provider</th>\n",
       "      <th>desc_words</th>\n",
       "    </tr>\n",
       "  </thead>\n",
       "  <tbody>\n",
       "    <tr>\n",
       "      <th>0</th>\n",
       "      <td>0</td>\n",
       "      <td>3/business_management|6/economics_finance</td>\n",
       "      <td>This course introduces the basic financial sta...</td>\n",
       "      <td>4</td>\n",
       "      <td>en</td>\n",
       "      <td>Accounting Cycle: The Foundation of Business M...</td>\n",
       "      <td>Canvas Network</td>\n",
       "      <td>[this, course, introduces, the, basic, financi...</td>\n",
       "    </tr>\n",
       "    <tr>\n",
       "      <th>1</th>\n",
       "      <td>1</td>\n",
       "      <td>11/law</td>\n",
       "      <td>This online course will introduce you to Ameri...</td>\n",
       "      <td>5</td>\n",
       "      <td>en</td>\n",
       "      <td>American Counter Terrorism Law</td>\n",
       "      <td>Canvas Network</td>\n",
       "      <td>[this, online, course, will, introduce, you, t...</td>\n",
       "    </tr>\n",
       "    <tr>\n",
       "      <th>2</th>\n",
       "      <td>3</td>\n",
       "      <td>14/social_sciences</td>\n",
       "      <td>We live in a digitally connected world. The wa...</td>\n",
       "      <td>7</td>\n",
       "      <td>en</td>\n",
       "      <td>Becoming a Dynamic Educator</td>\n",
       "      <td>Canvas Network</td>\n",
       "      <td>[we, live, in, digitally, connected, world, th...</td>\n",
       "    </tr>\n",
       "    <tr>\n",
       "      <th>3</th>\n",
       "      <td>4</td>\n",
       "      <td>2/biology_life_sciences</td>\n",
       "      <td>This self-paced course is designed to show tha...</td>\n",
       "      <td>8</td>\n",
       "      <td>en</td>\n",
       "      <td>Bioethics</td>\n",
       "      <td>Canvas Network</td>\n",
       "      <td>[this, self, paced, course, is, designed, to, ...</td>\n",
       "    </tr>\n",
       "    <tr>\n",
       "      <th>4</th>\n",
       "      <td>5</td>\n",
       "      <td>9/humanities|15/mathematics_statistics_and_dat...</td>\n",
       "      <td>This game-based course provides prospective st...</td>\n",
       "      <td>9</td>\n",
       "      <td>en</td>\n",
       "      <td>College Foundations: Reading, Writing, and Math</td>\n",
       "      <td>Canvas Network</td>\n",
       "      <td>[this, game, based, course, provides, prospect...</td>\n",
       "    </tr>\n",
       "  </tbody>\n",
       "</table>\n",
       "</div>"
      ],
      "text/plain": [
       "   index                                                cat  \\\n",
       "0      0          3/business_management|6/economics_finance   \n",
       "1      1                                             11/law   \n",
       "2      3                                 14/social_sciences   \n",
       "3      4                            2/biology_life_sciences   \n",
       "4      5  9/humanities|15/mathematics_statistics_and_dat...   \n",
       "\n",
       "                                                desc  id lang  \\\n",
       "0  This course introduces the basic financial sta...   4   en   \n",
       "1  This online course will introduce you to Ameri...   5   en   \n",
       "2  We live in a digitally connected world. The wa...   7   en   \n",
       "3  This self-paced course is designed to show tha...   8   en   \n",
       "4  This game-based course provides prospective st...   9   en   \n",
       "\n",
       "                                                name        provider  \\\n",
       "0  Accounting Cycle: The Foundation of Business M...  Canvas Network   \n",
       "1                     American Counter Terrorism Law  Canvas Network   \n",
       "2                        Becoming a Dynamic Educator  Canvas Network   \n",
       "3                                          Bioethics  Canvas Network   \n",
       "4    College Foundations: Reading, Writing, and Math  Canvas Network   \n",
       "\n",
       "                                          desc_words  \n",
       "0  [this, course, introduces, the, basic, financi...  \n",
       "1  [this, online, course, will, introduce, you, t...  \n",
       "2  [we, live, in, digitally, connected, world, th...  \n",
       "3  [this, self, paced, course, is, designed, to, ...  \n",
       "4  [this, game, based, course, provides, prospect...  "
      ]
     },
     "execution_count": 12,
     "metadata": {},
     "output_type": "execute_result"
    }
   ],
   "source": [
    "lmtzr = WordNetLemmatizer()\n",
    "data_en[\"desc_words\"] = data_en[\"desc_words\"].apply(lambda x: [lmtzr.lemmatize(tok) for tok in x])\n",
    "data_en.head()"
   ]
  },
  {
   "cell_type": "code",
   "execution_count": 13,
   "metadata": {},
   "outputs": [
    {
     "data": {
      "text/html": [
       "<div>\n",
       "<style scoped>\n",
       "    .dataframe tbody tr th:only-of-type {\n",
       "        vertical-align: middle;\n",
       "    }\n",
       "\n",
       "    .dataframe tbody tr th {\n",
       "        vertical-align: top;\n",
       "    }\n",
       "\n",
       "    .dataframe thead th {\n",
       "        text-align: right;\n",
       "    }\n",
       "</style>\n",
       "<table border=\"1\" class=\"dataframe\">\n",
       "  <thead>\n",
       "    <tr style=\"text-align: right;\">\n",
       "      <th></th>\n",
       "      <th>index</th>\n",
       "      <th>cat</th>\n",
       "      <th>desc</th>\n",
       "      <th>id</th>\n",
       "      <th>lang</th>\n",
       "      <th>name</th>\n",
       "      <th>provider</th>\n",
       "      <th>desc_words</th>\n",
       "    </tr>\n",
       "  </thead>\n",
       "  <tbody>\n",
       "    <tr>\n",
       "      <th>0</th>\n",
       "      <td>55</td>\n",
       "      <td></td>\n",
       "      <td>A través de diferentes actividades de campo el...</td>\n",
       "      <td>59</td>\n",
       "      <td>es</td>\n",
       "      <td>El ABC del emprendimiento esbelto</td>\n",
       "      <td>Coursera</td>\n",
       "      <td>[traves, de, diferent, activ, de, camp, el, pa...</td>\n",
       "    </tr>\n",
       "    <tr>\n",
       "      <th>1</th>\n",
       "      <td>120</td>\n",
       "      <td>2/biology_life_sciences|9/humanities</td>\n",
       "      <td>Aprenderemos cómo podemos usar el pensamiento ...</td>\n",
       "      <td>124</td>\n",
       "      <td>es</td>\n",
       "      <td>Pensamiento Científico</td>\n",
       "      <td>Coursera</td>\n",
       "      <td>[aprend, com, pod, usar, el, pensamient, cient...</td>\n",
       "    </tr>\n",
       "    <tr>\n",
       "      <th>2</th>\n",
       "      <td>156</td>\n",
       "      <td>8/engineering_technology|9/humanities|14/socia...</td>\n",
       "      <td>¡Claro que todos podemos potenciar nuestra cre...</td>\n",
       "      <td>160</td>\n",
       "      <td>es</td>\n",
       "      <td>Ser más creativos</td>\n",
       "      <td>Coursera</td>\n",
       "      <td>[clar, que, todos, pod, potenci, nuestra, crea...</td>\n",
       "    </tr>\n",
       "    <tr>\n",
       "      <th>3</th>\n",
       "      <td>162</td>\n",
       "      <td>7/energy_earth_sciences|9/humanities|13/physic...</td>\n",
       "      <td>Este curso provee al estudiante con conceptos ...</td>\n",
       "      <td>166</td>\n",
       "      <td>es</td>\n",
       "      <td>Conceptos y Herramientas para la Física Univer...</td>\n",
       "      <td>Coursera</td>\n",
       "      <td>[este, curs, prove, al, estudi, con, concept, ...</td>\n",
       "    </tr>\n",
       "    <tr>\n",
       "      <th>4</th>\n",
       "      <td>192</td>\n",
       "      <td>9/humanities</td>\n",
       "      <td>Este curso introduce a los estudiantes de grad...</td>\n",
       "      <td>196</td>\n",
       "      <td>es</td>\n",
       "      <td>Egiptología (Egyptology)</td>\n",
       "      <td>Coursera</td>\n",
       "      <td>[este, curs, introduc, los, estudi, de, grad, ...</td>\n",
       "    </tr>\n",
       "  </tbody>\n",
       "</table>\n",
       "</div>"
      ],
      "text/plain": [
       "   index                                                cat  \\\n",
       "0     55                                                      \n",
       "1    120               2/biology_life_sciences|9/humanities   \n",
       "2    156  8/engineering_technology|9/humanities|14/socia...   \n",
       "3    162  7/energy_earth_sciences|9/humanities|13/physic...   \n",
       "4    192                                       9/humanities   \n",
       "\n",
       "                                                desc   id lang  \\\n",
       "0  A través de diferentes actividades de campo el...   59   es   \n",
       "1  Aprenderemos cómo podemos usar el pensamiento ...  124   es   \n",
       "2  ¡Claro que todos podemos potenciar nuestra cre...  160   es   \n",
       "3  Este curso provee al estudiante con conceptos ...  166   es   \n",
       "4  Este curso introduce a los estudiantes de grad...  196   es   \n",
       "\n",
       "                                                name  provider  \\\n",
       "0                  El ABC del emprendimiento esbelto  Coursera   \n",
       "1                             Pensamiento Científico  Coursera   \n",
       "2                                  Ser más creativos  Coursera   \n",
       "3  Conceptos y Herramientas para la Física Univer...  Coursera   \n",
       "4                           Egiptología (Egyptology)  Coursera   \n",
       "\n",
       "                                          desc_words  \n",
       "0  [traves, de, diferent, activ, de, camp, el, pa...  \n",
       "1  [aprend, com, pod, usar, el, pensamient, cient...  \n",
       "2  [clar, que, todos, pod, potenci, nuestra, crea...  \n",
       "3  [este, curs, prove, al, estudi, con, concept, ...  \n",
       "4  [este, curs, introduc, los, estudi, de, grad, ...  "
      ]
     },
     "execution_count": 13,
     "metadata": {},
     "output_type": "execute_result"
    }
   ],
   "source": [
    "spanishStemmer=SnowballStemmer(\"spanish\", ignore_stopwords=True)\n",
    "data_es[\"desc_words\"] = data_es[\"desc_words\"].apply(lambda x: [spanishStemmer.stem(tok) for tok in x])\n",
    "data_es.head()"
   ]
  },
  {
   "cell_type": "markdown",
   "metadata": {},
   "source": [
    "Удаляем стоп-слова"
   ]
  },
  {
   "cell_type": "code",
   "execution_count": 14,
   "metadata": {},
   "outputs": [
    {
     "data": {
      "text/html": [
       "<div>\n",
       "<style scoped>\n",
       "    .dataframe tbody tr th:only-of-type {\n",
       "        vertical-align: middle;\n",
       "    }\n",
       "\n",
       "    .dataframe tbody tr th {\n",
       "        vertical-align: top;\n",
       "    }\n",
       "\n",
       "    .dataframe thead th {\n",
       "        text-align: right;\n",
       "    }\n",
       "</style>\n",
       "<table border=\"1\" class=\"dataframe\">\n",
       "  <thead>\n",
       "    <tr style=\"text-align: right;\">\n",
       "      <th></th>\n",
       "      <th>index</th>\n",
       "      <th>cat</th>\n",
       "      <th>desc</th>\n",
       "      <th>id</th>\n",
       "      <th>lang</th>\n",
       "      <th>name</th>\n",
       "      <th>provider</th>\n",
       "      <th>desc_words</th>\n",
       "    </tr>\n",
       "  </thead>\n",
       "  <tbody>\n",
       "    <tr>\n",
       "      <th>0</th>\n",
       "      <td>42</td>\n",
       "      <td>5/computer_science</td>\n",
       "      <td>Часть 1. Продвинутые структуры данных\\r\\nПриор...</td>\n",
       "      <td>46</td>\n",
       "      <td>ru</td>\n",
       "      <td>Дополнительные главы алгоритмов</td>\n",
       "      <td>Computer Science Center</td>\n",
       "      <td>[часть, продвинуть, структура, дать, приоритет...</td>\n",
       "    </tr>\n",
       "    <tr>\n",
       "      <th>1</th>\n",
       "      <td>43</td>\n",
       "      <td>5/computer_science</td>\n",
       "      <td>Splay-дерево и декартово дерево\\r\\nХеширование...</td>\n",
       "      <td>47</td>\n",
       "      <td>ru</td>\n",
       "      <td>Алгоритмы и структуры данных 2</td>\n",
       "      <td>Computer Science Center</td>\n",
       "      <td>[splay, дерево, декартов, дерево, хеширование,...</td>\n",
       "    </tr>\n",
       "    <tr>\n",
       "      <th>2</th>\n",
       "      <td>44</td>\n",
       "      <td>5/computer_science</td>\n",
       "      <td>Курс посвящён теоретическим и практическим асп...</td>\n",
       "      <td>48</td>\n",
       "      <td>ru</td>\n",
       "      <td>Технологии хранения и обработки больших объёмо...</td>\n",
       "      <td>Computer Science Center</td>\n",
       "      <td>[курс, посвятить, теоретический, практический,...</td>\n",
       "    </tr>\n",
       "    <tr>\n",
       "      <th>3</th>\n",
       "      <td>45</td>\n",
       "      <td>2/biology_life_sciences|5/computer_science</td>\n",
       "      <td>Биоинформатика — это быстро растущий раздел co...</td>\n",
       "      <td>49</td>\n",
       "      <td>ru</td>\n",
       "      <td>Алгоритмы в биоинформатике</td>\n",
       "      <td>Computer Science Center</td>\n",
       "      <td>[биоинформатика, быстро, расти, раздел, comput...</td>\n",
       "    </tr>\n",
       "    <tr>\n",
       "      <th>4</th>\n",
       "      <td>46</td>\n",
       "      <td>5/computer_science|15/mathematics_statistics_a...</td>\n",
       "      <td>Курс знакомит со сложностью вероятностных вычи...</td>\n",
       "      <td>50</td>\n",
       "      <td>ru</td>\n",
       "      <td>Сложность вычислений и основы криптографии</td>\n",
       "      <td>Computer Science Center</td>\n",
       "      <td>[курс, знакомить, сложность, вероятностный, вы...</td>\n",
       "    </tr>\n",
       "  </tbody>\n",
       "</table>\n",
       "</div>"
      ],
      "text/plain": [
       "   index                                                cat  \\\n",
       "0     42                                 5/computer_science   \n",
       "1     43                                 5/computer_science   \n",
       "2     44                                 5/computer_science   \n",
       "3     45         2/biology_life_sciences|5/computer_science   \n",
       "4     46  5/computer_science|15/mathematics_statistics_a...   \n",
       "\n",
       "                                                desc  id lang  \\\n",
       "0  Часть 1. Продвинутые структуры данных\\r\\nПриор...  46   ru   \n",
       "1  Splay-дерево и декартово дерево\\r\\nХеширование...  47   ru   \n",
       "2  Курс посвящён теоретическим и практическим асп...  48   ru   \n",
       "3  Биоинформатика — это быстро растущий раздел co...  49   ru   \n",
       "4  Курс знакомит со сложностью вероятностных вычи...  50   ru   \n",
       "\n",
       "                                                name                 provider  \\\n",
       "0                    Дополнительные главы алгоритмов  Computer Science Center   \n",
       "1                     Алгоритмы и структуры данных 2  Computer Science Center   \n",
       "2  Технологии хранения и обработки больших объёмо...  Computer Science Center   \n",
       "3                         Алгоритмы в биоинформатике  Computer Science Center   \n",
       "4         Сложность вычислений и основы криптографии  Computer Science Center   \n",
       "\n",
       "                                          desc_words  \n",
       "0  [часть, продвинуть, структура, дать, приоритет...  \n",
       "1  [splay, дерево, декартов, дерево, хеширование,...  \n",
       "2  [курс, посвятить, теоретический, практический,...  \n",
       "3  [биоинформатика, быстро, расти, раздел, comput...  \n",
       "4  [курс, знакомить, сложность, вероятностный, вы...  "
      ]
     },
     "execution_count": 14,
     "metadata": {},
     "output_type": "execute_result"
    }
   ],
   "source": [
    "def remove_stopwords(tokens, stopwords=None, min_length=4):\n",
    "    if not stopwords:\n",
    "        return tokens\n",
    "    stopwords = set(stopwords)\n",
    "    tokens = [tok\n",
    "              for tok in tokens\n",
    "              if tok not in stopwords and len(tok) >= min_length]\n",
    "    return tokens\n",
    "\n",
    "data_ru[\"desc_words\"] = data_ru[\"desc_words\"].apply(lambda x: remove_stopwords(x,stops_ru))\n",
    "data_en[\"desc_words\"] = data_en[\"desc_words\"].apply(lambda x: remove_stopwords(x,stops_en))\n",
    "data_es[\"desc_words\"] = data_es[\"desc_words\"].apply(lambda x: remove_stopwords(x,stops_es))\n",
    "data_ru.head()"
   ]
  },
  {
   "cell_type": "code",
   "execution_count": 15,
   "metadata": {},
   "outputs": [
    {
     "data": {
      "text/html": [
       "<div>\n",
       "<style scoped>\n",
       "    .dataframe tbody tr th:only-of-type {\n",
       "        vertical-align: middle;\n",
       "    }\n",
       "\n",
       "    .dataframe tbody tr th {\n",
       "        vertical-align: top;\n",
       "    }\n",
       "\n",
       "    .dataframe thead th {\n",
       "        text-align: right;\n",
       "    }\n",
       "</style>\n",
       "<table border=\"1\" class=\"dataframe\">\n",
       "  <thead>\n",
       "    <tr style=\"text-align: right;\">\n",
       "      <th></th>\n",
       "      <th>index</th>\n",
       "      <th>cat</th>\n",
       "      <th>desc</th>\n",
       "      <th>id</th>\n",
       "      <th>lang</th>\n",
       "      <th>name</th>\n",
       "      <th>provider</th>\n",
       "      <th>desc_words</th>\n",
       "    </tr>\n",
       "  </thead>\n",
       "  <tbody>\n",
       "    <tr>\n",
       "      <th>0</th>\n",
       "      <td>42</td>\n",
       "      <td>5/computer_science</td>\n",
       "      <td>Часть 1. Продвинутые структуры данных\\r\\nПриор...</td>\n",
       "      <td>46</td>\n",
       "      <td>ru</td>\n",
       "      <td>Дополнительные главы алгоритмов</td>\n",
       "      <td>Computer Science Center</td>\n",
       "      <td>[часть, продвинуть, структура, дать, приоритет...</td>\n",
       "    </tr>\n",
       "    <tr>\n",
       "      <th>1</th>\n",
       "      <td>43</td>\n",
       "      <td>5/computer_science</td>\n",
       "      <td>Splay-дерево и декартово дерево\\r\\nХеширование...</td>\n",
       "      <td>47</td>\n",
       "      <td>ru</td>\n",
       "      <td>Алгоритмы и структуры данных 2</td>\n",
       "      <td>Computer Science Center</td>\n",
       "      <td>[splay, дерево, декартов, дерево, хеширование,...</td>\n",
       "    </tr>\n",
       "    <tr>\n",
       "      <th>2</th>\n",
       "      <td>44</td>\n",
       "      <td>5/computer_science</td>\n",
       "      <td>Курс посвящён теоретическим и практическим асп...</td>\n",
       "      <td>48</td>\n",
       "      <td>ru</td>\n",
       "      <td>Технологии хранения и обработки больших объёмо...</td>\n",
       "      <td>Computer Science Center</td>\n",
       "      <td>[курс, посвятить, теоретический, практический,...</td>\n",
       "    </tr>\n",
       "    <tr>\n",
       "      <th>3</th>\n",
       "      <td>45</td>\n",
       "      <td>2/biology_life_sciences|5/computer_science</td>\n",
       "      <td>Биоинформатика — это быстро растущий раздел co...</td>\n",
       "      <td>49</td>\n",
       "      <td>ru</td>\n",
       "      <td>Алгоритмы в биоинформатике</td>\n",
       "      <td>Computer Science Center</td>\n",
       "      <td>[биоинформатика, быстро, расти, раздел, comput...</td>\n",
       "    </tr>\n",
       "    <tr>\n",
       "      <th>4</th>\n",
       "      <td>46</td>\n",
       "      <td>5/computer_science|15/mathematics_statistics_a...</td>\n",
       "      <td>Курс знакомит со сложностью вероятностных вычи...</td>\n",
       "      <td>50</td>\n",
       "      <td>ru</td>\n",
       "      <td>Сложность вычислений и основы криптографии</td>\n",
       "      <td>Computer Science Center</td>\n",
       "      <td>[курс, знакомить, сложность, вероятностный, вы...</td>\n",
       "    </tr>\n",
       "  </tbody>\n",
       "</table>\n",
       "</div>"
      ],
      "text/plain": [
       "   index                                                cat  \\\n",
       "0     42                                 5/computer_science   \n",
       "1     43                                 5/computer_science   \n",
       "2     44                                 5/computer_science   \n",
       "3     45         2/biology_life_sciences|5/computer_science   \n",
       "4     46  5/computer_science|15/mathematics_statistics_a...   \n",
       "\n",
       "                                                desc  id lang  \\\n",
       "0  Часть 1. Продвинутые структуры данных\\r\\nПриор...  46   ru   \n",
       "1  Splay-дерево и декартово дерево\\r\\nХеширование...  47   ru   \n",
       "2  Курс посвящён теоретическим и практическим асп...  48   ru   \n",
       "3  Биоинформатика — это быстро растущий раздел co...  49   ru   \n",
       "4  Курс знакомит со сложностью вероятностных вычи...  50   ru   \n",
       "\n",
       "                                                name                 provider  \\\n",
       "0                    Дополнительные главы алгоритмов  Computer Science Center   \n",
       "1                     Алгоритмы и структуры данных 2  Computer Science Center   \n",
       "2  Технологии хранения и обработки больших объёмо...  Computer Science Center   \n",
       "3                         Алгоритмы в биоинформатике  Computer Science Center   \n",
       "4         Сложность вычислений и основы криптографии  Computer Science Center   \n",
       "\n",
       "                                          desc_words  \n",
       "0  [часть, продвинуть, структура, дать, приоритет...  \n",
       "1  [splay, дерево, декартов, дерево, хеширование,...  \n",
       "2  [курс, посвятить, теоретический, практический,...  \n",
       "3  [биоинформатика, быстро, расти, раздел, comput...  \n",
       "4  [курс, знакомить, сложность, вероятностный, вы...  "
      ]
     },
     "execution_count": 15,
     "metadata": {},
     "output_type": "execute_result"
    }
   ],
   "source": [
    "data_ru = data_ru.sort_values(\"id\")\n",
    "data_en = data_en.sort_values(\"id\")\n",
    "data_es = data_es.sort_values(\"id\")\n",
    "data_ru.head()"
   ]
  },
  {
   "cell_type": "markdown",
   "metadata": {},
   "source": [
    "#### Считаем косинусную меру и TF-IDF"
   ]
  },
  {
   "cell_type": "markdown",
   "metadata": {},
   "source": [
    "Русские тексты"
   ]
  },
  {
   "cell_type": "code",
   "execution_count": 16,
   "metadata": {},
   "outputs": [],
   "source": [
    "#8170\n",
    "#1200"
   ]
  },
  {
   "cell_type": "code",
   "execution_count": 17,
   "metadata": {},
   "outputs": [
    {
     "name": "stdout",
     "output_type": "stream",
     "text": [
      "Int64Index([444], dtype='int64')\n",
      "Int64Index([739], dtype='int64')\n"
     ]
    }
   ],
   "source": [
    "ind1 = data_ru[data_ru[\"id\"] == 1200]\n",
    "ind2 = data_ru[data_ru[\"id\"] == 8170]\n",
    "print(ind1.index)\n",
    "print(ind2.index)"
   ]
  },
  {
   "cell_type": "code",
   "execution_count": 18,
   "metadata": {},
   "outputs": [
    {
     "data": {
      "text/html": [
       "<div>\n",
       "<style scoped>\n",
       "    .dataframe tbody tr th:only-of-type {\n",
       "        vertical-align: middle;\n",
       "    }\n",
       "\n",
       "    .dataframe tbody tr th {\n",
       "        vertical-align: top;\n",
       "    }\n",
       "\n",
       "    .dataframe thead th {\n",
       "        text-align: right;\n",
       "    }\n",
       "</style>\n",
       "<table border=\"1\" class=\"dataframe\">\n",
       "  <thead>\n",
       "    <tr style=\"text-align: right;\">\n",
       "      <th></th>\n",
       "      <th>index</th>\n",
       "      <th>cat</th>\n",
       "      <th>desc</th>\n",
       "      <th>id</th>\n",
       "      <th>lang</th>\n",
       "      <th>name</th>\n",
       "      <th>provider</th>\n",
       "      <th>desc_words</th>\n",
       "    </tr>\n",
       "  </thead>\n",
       "  <tbody>\n",
       "    <tr>\n",
       "      <th>0</th>\n",
       "      <td>42</td>\n",
       "      <td>5/computer_science</td>\n",
       "      <td>Часть 1. Продвинутые структуры данных\\r\\nПриор...</td>\n",
       "      <td>46</td>\n",
       "      <td>ru</td>\n",
       "      <td>Дополнительные главы алгоритмов</td>\n",
       "      <td>Computer Science Center</td>\n",
       "      <td>[часть, продвинуть, структура, дать, приоритет...</td>\n",
       "    </tr>\n",
       "    <tr>\n",
       "      <th>1</th>\n",
       "      <td>43</td>\n",
       "      <td>5/computer_science</td>\n",
       "      <td>Splay-дерево и декартово дерево\\r\\nХеширование...</td>\n",
       "      <td>47</td>\n",
       "      <td>ru</td>\n",
       "      <td>Алгоритмы и структуры данных 2</td>\n",
       "      <td>Computer Science Center</td>\n",
       "      <td>[splay, дерево, декартов, дерево, хеширование,...</td>\n",
       "    </tr>\n",
       "    <tr>\n",
       "      <th>2</th>\n",
       "      <td>44</td>\n",
       "      <td>5/computer_science</td>\n",
       "      <td>Курс посвящён теоретическим и практическим асп...</td>\n",
       "      <td>48</td>\n",
       "      <td>ru</td>\n",
       "      <td>Технологии хранения и обработки больших объёмо...</td>\n",
       "      <td>Computer Science Center</td>\n",
       "      <td>[курс, посвятить, теоретический, практический,...</td>\n",
       "    </tr>\n",
       "    <tr>\n",
       "      <th>3</th>\n",
       "      <td>45</td>\n",
       "      <td>2/biology_life_sciences|5/computer_science</td>\n",
       "      <td>Биоинформатика — это быстро растущий раздел co...</td>\n",
       "      <td>49</td>\n",
       "      <td>ru</td>\n",
       "      <td>Алгоритмы в биоинформатике</td>\n",
       "      <td>Computer Science Center</td>\n",
       "      <td>[биоинформатика, быстро, расти, раздел, comput...</td>\n",
       "    </tr>\n",
       "    <tr>\n",
       "      <th>4</th>\n",
       "      <td>46</td>\n",
       "      <td>5/computer_science|15/mathematics_statistics_a...</td>\n",
       "      <td>Курс знакомит со сложностью вероятностных вычи...</td>\n",
       "      <td>50</td>\n",
       "      <td>ru</td>\n",
       "      <td>Сложность вычислений и основы криптографии</td>\n",
       "      <td>Computer Science Center</td>\n",
       "      <td>[курс, знакомить, сложность, вероятностный, вы...</td>\n",
       "    </tr>\n",
       "  </tbody>\n",
       "</table>\n",
       "</div>"
      ],
      "text/plain": [
       "   index                                                cat  \\\n",
       "0     42                                 5/computer_science   \n",
       "1     43                                 5/computer_science   \n",
       "2     44                                 5/computer_science   \n",
       "3     45         2/biology_life_sciences|5/computer_science   \n",
       "4     46  5/computer_science|15/mathematics_statistics_a...   \n",
       "\n",
       "                                                desc  id lang  \\\n",
       "0  Часть 1. Продвинутые структуры данных\\r\\nПриор...  46   ru   \n",
       "1  Splay-дерево и декартово дерево\\r\\nХеширование...  47   ru   \n",
       "2  Курс посвящён теоретическим и практическим асп...  48   ru   \n",
       "3  Биоинформатика — это быстро растущий раздел co...  49   ru   \n",
       "4  Курс знакомит со сложностью вероятностных вычи...  50   ru   \n",
       "\n",
       "                                                name                 provider  \\\n",
       "0                    Дополнительные главы алгоритмов  Computer Science Center   \n",
       "1                     Алгоритмы и структуры данных 2  Computer Science Center   \n",
       "2  Технологии хранения и обработки больших объёмо...  Computer Science Center   \n",
       "3                         Алгоритмы в биоинформатике  Computer Science Center   \n",
       "4         Сложность вычислений и основы криптографии  Computer Science Center   \n",
       "\n",
       "                                          desc_words  \n",
       "0  [часть, продвинуть, структура, дать, приоритет...  \n",
       "1  [splay, дерево, декартов, дерево, хеширование,...  \n",
       "2  [курс, посвятить, теоретический, практический,...  \n",
       "3  [биоинформатика, быстро, расти, раздел, comput...  \n",
       "4  [курс, знакомить, сложность, вероятностный, вы...  "
      ]
     },
     "execution_count": 18,
     "metadata": {},
     "output_type": "execute_result"
    }
   ],
   "source": [
    "data_ru_t = data_ru.copy()\n",
    "data_ru_t.head()"
   ]
  },
  {
   "cell_type": "code",
   "execution_count": 19,
   "metadata": {},
   "outputs": [
    {
     "data": {
      "text/html": [
       "<div>\n",
       "<style scoped>\n",
       "    .dataframe tbody tr th:only-of-type {\n",
       "        vertical-align: middle;\n",
       "    }\n",
       "\n",
       "    .dataframe tbody tr th {\n",
       "        vertical-align: top;\n",
       "    }\n",
       "\n",
       "    .dataframe thead th {\n",
       "        text-align: right;\n",
       "    }\n",
       "</style>\n",
       "<table border=\"1\" class=\"dataframe\">\n",
       "  <thead>\n",
       "    <tr style=\"text-align: right;\">\n",
       "      <th></th>\n",
       "      <th>index</th>\n",
       "      <th>cat</th>\n",
       "      <th>desc</th>\n",
       "      <th>id</th>\n",
       "      <th>lang</th>\n",
       "      <th>name</th>\n",
       "      <th>provider</th>\n",
       "      <th>desc_words</th>\n",
       "    </tr>\n",
       "  </thead>\n",
       "  <tbody>\n",
       "    <tr>\n",
       "      <th>0</th>\n",
       "      <td>1191</td>\n",
       "      <td>5/computer_science</td>\n",
       "      <td>В курсе представлены понятия и положения теори...</td>\n",
       "      <td>1200</td>\n",
       "      <td>ru</td>\n",
       "      <td>Современные операционные системы</td>\n",
       "      <td>Intuit</td>\n",
       "      <td>[курс, представить, понятие, положение, теория...</td>\n",
       "    </tr>\n",
       "    <tr>\n",
       "      <th>1</th>\n",
       "      <td>43</td>\n",
       "      <td>5/computer_science</td>\n",
       "      <td>Splay-дерево и декартово дерево\\r\\nХеширование...</td>\n",
       "      <td>47</td>\n",
       "      <td>ru</td>\n",
       "      <td>Алгоритмы и структуры данных 2</td>\n",
       "      <td>Computer Science Center</td>\n",
       "      <td>[splay, дерево, декартов, дерево, хеширование,...</td>\n",
       "    </tr>\n",
       "    <tr>\n",
       "      <th>2</th>\n",
       "      <td>44</td>\n",
       "      <td>5/computer_science</td>\n",
       "      <td>Курс посвящён теоретическим и практическим асп...</td>\n",
       "      <td>48</td>\n",
       "      <td>ru</td>\n",
       "      <td>Технологии хранения и обработки больших объёмо...</td>\n",
       "      <td>Computer Science Center</td>\n",
       "      <td>[курс, посвятить, теоретический, практический,...</td>\n",
       "    </tr>\n",
       "    <tr>\n",
       "      <th>3</th>\n",
       "      <td>45</td>\n",
       "      <td>2/biology_life_sciences|5/computer_science</td>\n",
       "      <td>Биоинформатика — это быстро растущий раздел co...</td>\n",
       "      <td>49</td>\n",
       "      <td>ru</td>\n",
       "      <td>Алгоритмы в биоинформатике</td>\n",
       "      <td>Computer Science Center</td>\n",
       "      <td>[биоинформатика, быстро, расти, раздел, comput...</td>\n",
       "    </tr>\n",
       "    <tr>\n",
       "      <th>4</th>\n",
       "      <td>46</td>\n",
       "      <td>5/computer_science|15/mathematics_statistics_a...</td>\n",
       "      <td>Курс знакомит со сложностью вероятностных вычи...</td>\n",
       "      <td>50</td>\n",
       "      <td>ru</td>\n",
       "      <td>Сложность вычислений и основы криптографии</td>\n",
       "      <td>Computer Science Center</td>\n",
       "      <td>[курс, знакомить, сложность, вероятностный, вы...</td>\n",
       "    </tr>\n",
       "  </tbody>\n",
       "</table>\n",
       "</div>"
      ],
      "text/plain": [
       "   index                                                cat  \\\n",
       "0   1191                                 5/computer_science   \n",
       "1     43                                 5/computer_science   \n",
       "2     44                                 5/computer_science   \n",
       "3     45         2/biology_life_sciences|5/computer_science   \n",
       "4     46  5/computer_science|15/mathematics_statistics_a...   \n",
       "\n",
       "                                                desc    id lang  \\\n",
       "0  В курсе представлены понятия и положения теори...  1200   ru   \n",
       "1  Splay-дерево и декартово дерево\\r\\nХеширование...    47   ru   \n",
       "2  Курс посвящён теоретическим и практическим асп...    48   ru   \n",
       "3  Биоинформатика — это быстро растущий раздел co...    49   ru   \n",
       "4  Курс знакомит со сложностью вероятностных вычи...    50   ru   \n",
       "\n",
       "                                                name                 provider  \\\n",
       "0                   Современные операционные системы                   Intuit   \n",
       "1                     Алгоритмы и структуры данных 2  Computer Science Center   \n",
       "2  Технологии хранения и обработки больших объёмо...  Computer Science Center   \n",
       "3                         Алгоритмы в биоинформатике  Computer Science Center   \n",
       "4         Сложность вычислений и основы криптографии  Computer Science Center   \n",
       "\n",
       "                                          desc_words  \n",
       "0  [курс, представить, понятие, положение, теория...  \n",
       "1  [splay, дерево, декартов, дерево, хеширование,...  \n",
       "2  [курс, посвятить, теоретический, практический,...  \n",
       "3  [биоинформатика, быстро, расти, раздел, comput...  \n",
       "4  [курс, знакомить, сложность, вероятностный, вы...  "
      ]
     },
     "execution_count": 19,
     "metadata": {},
     "output_type": "execute_result"
    }
   ],
   "source": [
    "b, c = data_ru.iloc[0], data_ru.iloc[444]\n",
    "temp = data_ru.iloc[0].copy()\n",
    "data_ru.iloc[0] = c\n",
    "data_ru.iloc[444] = temp\n",
    "data_ru.head()"
   ]
  },
  {
   "cell_type": "code",
   "execution_count": 20,
   "metadata": {},
   "outputs": [
    {
     "name": "stdout",
     "output_type": "stream",
     "text": [
      "CPU times: user 1.2 s, sys: 244 ms, total: 1.44 s\n",
      "Wall time: 397 ms\n"
     ]
    }
   ],
   "source": [
    "%%time\n",
    "vectorizer_rus = TfidfVectorizer()\n",
    "data_ru[\"desc_words\"] = data_ru[\"desc_words\"].apply(' '.join)\n",
    "matrix = vectorizer_rus.fit_transform(data_ru[\"desc_words\"]).toarray()"
   ]
  },
  {
   "cell_type": "code",
   "execution_count": 21,
   "metadata": {},
   "outputs": [
    {
     "data": {
      "text/plain": [
       "(1, 1230)"
      ]
     },
     "execution_count": 21,
     "metadata": {},
     "output_type": "execute_result"
    }
   ],
   "source": [
    "cos_m = cosine_similarity(matrix[0].reshape(1,-1), matrix[1:])\n",
    "cos_m.shape"
   ]
  },
  {
   "cell_type": "code",
   "execution_count": 22,
   "metadata": {},
   "outputs": [
    {
     "data": {
      "text/plain": [
       "array([[0.01240741],\n",
       "       [0.04378895],\n",
       "       [0.03124609],\n",
       "       ...,\n",
       "       [0.00411149],\n",
       "       [0.00184058],\n",
       "       [0.04110302]])"
      ]
     },
     "execution_count": 22,
     "metadata": {},
     "output_type": "execute_result"
    }
   ],
   "source": [
    "cos_m = cos_m.reshape(1230,1)\n",
    "cos_m"
   ]
  },
  {
   "cell_type": "code",
   "execution_count": 23,
   "metadata": {},
   "outputs": [
    {
     "data": {
      "text/html": [
       "<div>\n",
       "<style scoped>\n",
       "    .dataframe tbody tr th:only-of-type {\n",
       "        vertical-align: middle;\n",
       "    }\n",
       "\n",
       "    .dataframe tbody tr th {\n",
       "        vertical-align: top;\n",
       "    }\n",
       "\n",
       "    .dataframe thead th {\n",
       "        text-align: right;\n",
       "    }\n",
       "</style>\n",
       "<table border=\"1\" class=\"dataframe\">\n",
       "  <thead>\n",
       "    <tr style=\"text-align: right;\">\n",
       "      <th></th>\n",
       "      <th>0</th>\n",
       "    </tr>\n",
       "  </thead>\n",
       "  <tbody>\n",
       "    <tr>\n",
       "      <th>0</th>\n",
       "      <td>0.012407</td>\n",
       "    </tr>\n",
       "    <tr>\n",
       "      <th>1</th>\n",
       "      <td>0.043789</td>\n",
       "    </tr>\n",
       "    <tr>\n",
       "      <th>2</th>\n",
       "      <td>0.031246</td>\n",
       "    </tr>\n",
       "    <tr>\n",
       "      <th>3</th>\n",
       "      <td>0.072302</td>\n",
       "    </tr>\n",
       "    <tr>\n",
       "      <th>4</th>\n",
       "      <td>0.067000</td>\n",
       "    </tr>\n",
       "  </tbody>\n",
       "</table>\n",
       "</div>"
      ],
      "text/plain": [
       "          0\n",
       "0  0.012407\n",
       "1  0.043789\n",
       "2  0.031246\n",
       "3  0.072302\n",
       "4  0.067000"
      ]
     },
     "execution_count": 23,
     "metadata": {},
     "output_type": "execute_result"
    }
   ],
   "source": [
    "cos_df = pd.DataFrame(cos_m)\n",
    "cos_df.head()"
   ]
  },
  {
   "cell_type": "code",
   "execution_count": 24,
   "metadata": {},
   "outputs": [
    {
     "data": {
      "text/plain": [
       "Int64Index([447, 195, 10, 727, 451, 442, 449, 1006, 448, 677], dtype='int64')"
      ]
     },
     "execution_count": 24,
     "metadata": {},
     "output_type": "execute_result"
    }
   ],
   "source": [
    "index_list_ru_1200 = cos_df.sort_values(0,ascending=False).head(10).index\n",
    "index_list_ru_1200"
   ]
  },
  {
   "cell_type": "code",
   "execution_count": 25,
   "metadata": {},
   "outputs": [
    {
     "data": {
      "text/plain": [
       "[1204, 952, 767, 8159, 1208, 1199, 1206, 20306, 1205, 5216]"
      ]
     },
     "execution_count": 25,
     "metadata": {},
     "output_type": "execute_result"
    }
   ],
   "source": [
    "index_list_ru_1200 = index_list_ru_1200 + 1\n",
    "index_list_ru_1200 = data_ru.ix[index_list_ru_1200][\"id\"].tolist()\n",
    "index_list_ru_1200"
   ]
  },
  {
   "cell_type": "code",
   "execution_count": 26,
   "metadata": {},
   "outputs": [
    {
     "data": {
      "text/html": [
       "<div>\n",
       "<style scoped>\n",
       "    .dataframe tbody tr th:only-of-type {\n",
       "        vertical-align: middle;\n",
       "    }\n",
       "\n",
       "    .dataframe tbody tr th {\n",
       "        vertical-align: top;\n",
       "    }\n",
       "\n",
       "    .dataframe thead th {\n",
       "        text-align: right;\n",
       "    }\n",
       "</style>\n",
       "<table border=\"1\" class=\"dataframe\">\n",
       "  <thead>\n",
       "    <tr style=\"text-align: right;\">\n",
       "      <th></th>\n",
       "      <th>index</th>\n",
       "      <th>cat</th>\n",
       "      <th>desc</th>\n",
       "      <th>id</th>\n",
       "      <th>lang</th>\n",
       "      <th>name</th>\n",
       "      <th>provider</th>\n",
       "      <th>desc_words</th>\n",
       "    </tr>\n",
       "  </thead>\n",
       "  <tbody>\n",
       "    <tr>\n",
       "      <th>0</th>\n",
       "      <td>42</td>\n",
       "      <td>5/computer_science</td>\n",
       "      <td>Часть 1. Продвинутые структуры данных\\r\\nПриор...</td>\n",
       "      <td>46</td>\n",
       "      <td>ru</td>\n",
       "      <td>Дополнительные главы алгоритмов</td>\n",
       "      <td>Computer Science Center</td>\n",
       "      <td>[часть, продвинуть, структура, дать, приоритет...</td>\n",
       "    </tr>\n",
       "    <tr>\n",
       "      <th>1</th>\n",
       "      <td>43</td>\n",
       "      <td>5/computer_science</td>\n",
       "      <td>Splay-дерево и декартово дерево\\r\\nХеширование...</td>\n",
       "      <td>47</td>\n",
       "      <td>ru</td>\n",
       "      <td>Алгоритмы и структуры данных 2</td>\n",
       "      <td>Computer Science Center</td>\n",
       "      <td>[splay, дерево, декартов, дерево, хеширование,...</td>\n",
       "    </tr>\n",
       "    <tr>\n",
       "      <th>2</th>\n",
       "      <td>44</td>\n",
       "      <td>5/computer_science</td>\n",
       "      <td>Курс посвящён теоретическим и практическим асп...</td>\n",
       "      <td>48</td>\n",
       "      <td>ru</td>\n",
       "      <td>Технологии хранения и обработки больших объёмо...</td>\n",
       "      <td>Computer Science Center</td>\n",
       "      <td>[курс, посвятить, теоретический, практический,...</td>\n",
       "    </tr>\n",
       "    <tr>\n",
       "      <th>3</th>\n",
       "      <td>45</td>\n",
       "      <td>2/biology_life_sciences|5/computer_science</td>\n",
       "      <td>Биоинформатика — это быстро растущий раздел co...</td>\n",
       "      <td>49</td>\n",
       "      <td>ru</td>\n",
       "      <td>Алгоритмы в биоинформатике</td>\n",
       "      <td>Computer Science Center</td>\n",
       "      <td>[биоинформатика, быстро, расти, раздел, comput...</td>\n",
       "    </tr>\n",
       "    <tr>\n",
       "      <th>4</th>\n",
       "      <td>46</td>\n",
       "      <td>5/computer_science|15/mathematics_statistics_a...</td>\n",
       "      <td>Курс знакомит со сложностью вероятностных вычи...</td>\n",
       "      <td>50</td>\n",
       "      <td>ru</td>\n",
       "      <td>Сложность вычислений и основы криптографии</td>\n",
       "      <td>Computer Science Center</td>\n",
       "      <td>[курс, знакомить, сложность, вероятностный, вы...</td>\n",
       "    </tr>\n",
       "  </tbody>\n",
       "</table>\n",
       "</div>"
      ],
      "text/plain": [
       "   index                                                cat  \\\n",
       "0     42                                 5/computer_science   \n",
       "1     43                                 5/computer_science   \n",
       "2     44                                 5/computer_science   \n",
       "3     45         2/biology_life_sciences|5/computer_science   \n",
       "4     46  5/computer_science|15/mathematics_statistics_a...   \n",
       "\n",
       "                                                desc  id lang  \\\n",
       "0  Часть 1. Продвинутые структуры данных\\r\\nПриор...  46   ru   \n",
       "1  Splay-дерево и декартово дерево\\r\\nХеширование...  47   ru   \n",
       "2  Курс посвящён теоретическим и практическим асп...  48   ru   \n",
       "3  Биоинформатика — это быстро растущий раздел co...  49   ru   \n",
       "4  Курс знакомит со сложностью вероятностных вычи...  50   ru   \n",
       "\n",
       "                                                name                 provider  \\\n",
       "0                    Дополнительные главы алгоритмов  Computer Science Center   \n",
       "1                     Алгоритмы и структуры данных 2  Computer Science Center   \n",
       "2  Технологии хранения и обработки больших объёмо...  Computer Science Center   \n",
       "3                         Алгоритмы в биоинформатике  Computer Science Center   \n",
       "4         Сложность вычислений и основы криптографии  Computer Science Center   \n",
       "\n",
       "                                          desc_words  \n",
       "0  [часть, продвинуть, структура, дать, приоритет...  \n",
       "1  [splay, дерево, декартов, дерево, хеширование,...  \n",
       "2  [курс, посвятить, теоретический, практический,...  \n",
       "3  [биоинформатика, быстро, расти, раздел, comput...  \n",
       "4  [курс, знакомить, сложность, вероятностный, вы...  "
      ]
     },
     "execution_count": 26,
     "metadata": {},
     "output_type": "execute_result"
    }
   ],
   "source": [
    "data_ru = data_ru_t.copy()\n",
    "data_ru.head()"
   ]
  },
  {
   "cell_type": "code",
   "execution_count": 27,
   "metadata": {},
   "outputs": [
    {
     "data": {
      "text/html": [
       "<div>\n",
       "<style scoped>\n",
       "    .dataframe tbody tr th:only-of-type {\n",
       "        vertical-align: middle;\n",
       "    }\n",
       "\n",
       "    .dataframe tbody tr th {\n",
       "        vertical-align: top;\n",
       "    }\n",
       "\n",
       "    .dataframe thead th {\n",
       "        text-align: right;\n",
       "    }\n",
       "</style>\n",
       "<table border=\"1\" class=\"dataframe\">\n",
       "  <thead>\n",
       "    <tr style=\"text-align: right;\">\n",
       "      <th></th>\n",
       "      <th>index</th>\n",
       "      <th>cat</th>\n",
       "      <th>desc</th>\n",
       "      <th>id</th>\n",
       "      <th>lang</th>\n",
       "      <th>name</th>\n",
       "      <th>provider</th>\n",
       "      <th>desc_words</th>\n",
       "    </tr>\n",
       "  </thead>\n",
       "  <tbody>\n",
       "    <tr>\n",
       "      <th>0</th>\n",
       "      <td>8148</td>\n",
       "      <td>5/computer_science</td>\n",
       "      <td>В курсе представлены новые результаты авторов ...</td>\n",
       "      <td>8170</td>\n",
       "      <td>ru</td>\n",
       "      <td>Разработка приложений для мобильных интеллекту...</td>\n",
       "      <td>Intuit</td>\n",
       "      <td>[курс, представить, новое, результат, автор, р...</td>\n",
       "    </tr>\n",
       "    <tr>\n",
       "      <th>1</th>\n",
       "      <td>43</td>\n",
       "      <td>5/computer_science</td>\n",
       "      <td>Splay-дерево и декартово дерево\\r\\nХеширование...</td>\n",
       "      <td>47</td>\n",
       "      <td>ru</td>\n",
       "      <td>Алгоритмы и структуры данных 2</td>\n",
       "      <td>Computer Science Center</td>\n",
       "      <td>[splay, дерево, декартов, дерево, хеширование,...</td>\n",
       "    </tr>\n",
       "    <tr>\n",
       "      <th>2</th>\n",
       "      <td>44</td>\n",
       "      <td>5/computer_science</td>\n",
       "      <td>Курс посвящён теоретическим и практическим асп...</td>\n",
       "      <td>48</td>\n",
       "      <td>ru</td>\n",
       "      <td>Технологии хранения и обработки больших объёмо...</td>\n",
       "      <td>Computer Science Center</td>\n",
       "      <td>[курс, посвятить, теоретический, практический,...</td>\n",
       "    </tr>\n",
       "    <tr>\n",
       "      <th>3</th>\n",
       "      <td>45</td>\n",
       "      <td>2/biology_life_sciences|5/computer_science</td>\n",
       "      <td>Биоинформатика — это быстро растущий раздел co...</td>\n",
       "      <td>49</td>\n",
       "      <td>ru</td>\n",
       "      <td>Алгоритмы в биоинформатике</td>\n",
       "      <td>Computer Science Center</td>\n",
       "      <td>[биоинформатика, быстро, расти, раздел, comput...</td>\n",
       "    </tr>\n",
       "    <tr>\n",
       "      <th>4</th>\n",
       "      <td>46</td>\n",
       "      <td>5/computer_science|15/mathematics_statistics_a...</td>\n",
       "      <td>Курс знакомит со сложностью вероятностных вычи...</td>\n",
       "      <td>50</td>\n",
       "      <td>ru</td>\n",
       "      <td>Сложность вычислений и основы криптографии</td>\n",
       "      <td>Computer Science Center</td>\n",
       "      <td>[курс, знакомить, сложность, вероятностный, вы...</td>\n",
       "    </tr>\n",
       "  </tbody>\n",
       "</table>\n",
       "</div>"
      ],
      "text/plain": [
       "   index                                                cat  \\\n",
       "0   8148                                 5/computer_science   \n",
       "1     43                                 5/computer_science   \n",
       "2     44                                 5/computer_science   \n",
       "3     45         2/biology_life_sciences|5/computer_science   \n",
       "4     46  5/computer_science|15/mathematics_statistics_a...   \n",
       "\n",
       "                                                desc    id lang  \\\n",
       "0  В курсе представлены новые результаты авторов ...  8170   ru   \n",
       "1  Splay-дерево и декартово дерево\\r\\nХеширование...    47   ru   \n",
       "2  Курс посвящён теоретическим и практическим асп...    48   ru   \n",
       "3  Биоинформатика — это быстро растущий раздел co...    49   ru   \n",
       "4  Курс знакомит со сложностью вероятностных вычи...    50   ru   \n",
       "\n",
       "                                                name                 provider  \\\n",
       "0  Разработка приложений для мобильных интеллекту...                   Intuit   \n",
       "1                     Алгоритмы и структуры данных 2  Computer Science Center   \n",
       "2  Технологии хранения и обработки больших объёмо...  Computer Science Center   \n",
       "3                         Алгоритмы в биоинформатике  Computer Science Center   \n",
       "4         Сложность вычислений и основы криптографии  Computer Science Center   \n",
       "\n",
       "                                          desc_words  \n",
       "0  [курс, представить, новое, результат, автор, р...  \n",
       "1  [splay, дерево, декартов, дерево, хеширование,...  \n",
       "2  [курс, посвятить, теоретический, практический,...  \n",
       "3  [биоинформатика, быстро, расти, раздел, comput...  \n",
       "4  [курс, знакомить, сложность, вероятностный, вы...  "
      ]
     },
     "execution_count": 27,
     "metadata": {},
     "output_type": "execute_result"
    }
   ],
   "source": [
    "b, c = data_ru.iloc[0], data_ru.iloc[739]\n",
    "temp = data_ru.iloc[0].copy()\n",
    "data_ru.iloc[0] = c\n",
    "data_ru.iloc[739] = temp\n",
    "data_ru.head()"
   ]
  },
  {
   "cell_type": "code",
   "execution_count": 28,
   "metadata": {},
   "outputs": [
    {
     "name": "stdout",
     "output_type": "stream",
     "text": [
      "CPU times: user 2.09 s, sys: 436 ms, total: 2.53 s\n",
      "Wall time: 340 ms\n"
     ]
    }
   ],
   "source": [
    "%%time\n",
    "vectorizer_rus = TfidfVectorizer()\n",
    "data_ru[\"desc_words\"] = data_ru[\"desc_words\"].apply(' '.join)\n",
    "matrix = vectorizer_rus.fit_transform(data_ru[\"desc_words\"]).toarray()"
   ]
  },
  {
   "cell_type": "code",
   "execution_count": 29,
   "metadata": {},
   "outputs": [
    {
     "data": {
      "text/plain": [
       "(1, 1230)"
      ]
     },
     "execution_count": 29,
     "metadata": {},
     "output_type": "execute_result"
    }
   ],
   "source": [
    "cos_m = cosine_similarity(matrix[0].reshape(1,-1), matrix[1:])\n",
    "cos_m.shape"
   ]
  },
  {
   "cell_type": "code",
   "execution_count": 30,
   "metadata": {},
   "outputs": [
    {
     "data": {
      "text/plain": [
       "array([[0.00749492],\n",
       "       [0.03450324],\n",
       "       [0.01879766],\n",
       "       ...,\n",
       "       [0.0047467 ],\n",
       "       [0.01990907],\n",
       "       [0.07078151]])"
      ]
     },
     "execution_count": 30,
     "metadata": {},
     "output_type": "execute_result"
    }
   ],
   "source": [
    "cos_m = cos_m.reshape(1230,1)\n",
    "cos_m"
   ]
  },
  {
   "cell_type": "code",
   "execution_count": 31,
   "metadata": {},
   "outputs": [
    {
     "data": {
      "text/html": [
       "<div>\n",
       "<style scoped>\n",
       "    .dataframe tbody tr th:only-of-type {\n",
       "        vertical-align: middle;\n",
       "    }\n",
       "\n",
       "    .dataframe tbody tr th {\n",
       "        vertical-align: top;\n",
       "    }\n",
       "\n",
       "    .dataframe thead th {\n",
       "        text-align: right;\n",
       "    }\n",
       "</style>\n",
       "<table border=\"1\" class=\"dataframe\">\n",
       "  <thead>\n",
       "    <tr style=\"text-align: right;\">\n",
       "      <th></th>\n",
       "      <th>0</th>\n",
       "    </tr>\n",
       "  </thead>\n",
       "  <tbody>\n",
       "    <tr>\n",
       "      <th>0</th>\n",
       "      <td>0.007495</td>\n",
       "    </tr>\n",
       "    <tr>\n",
       "      <th>1</th>\n",
       "      <td>0.034503</td>\n",
       "    </tr>\n",
       "    <tr>\n",
       "      <th>2</th>\n",
       "      <td>0.018798</td>\n",
       "    </tr>\n",
       "    <tr>\n",
       "      <th>3</th>\n",
       "      <td>0.010146</td>\n",
       "    </tr>\n",
       "    <tr>\n",
       "      <th>4</th>\n",
       "      <td>0.025390</td>\n",
       "    </tr>\n",
       "  </tbody>\n",
       "</table>\n",
       "</div>"
      ],
      "text/plain": [
       "          0\n",
       "0  0.007495\n",
       "1  0.034503\n",
       "2  0.018798\n",
       "3  0.010146\n",
       "4  0.025390"
      ]
     },
     "execution_count": 31,
     "metadata": {},
     "output_type": "execute_result"
    }
   ],
   "source": [
    "cos_df = pd.DataFrame(cos_m)\n",
    "cos_df.head()"
   ]
  },
  {
   "cell_type": "code",
   "execution_count": 32,
   "metadata": {},
   "outputs": [
    {
     "data": {
      "text/plain": [
       "Int64Index([737, 1052, 553, 110, 991, 933, 983, 36, 554, 1062], dtype='int64')"
      ]
     },
     "execution_count": 32,
     "metadata": {},
     "output_type": "execute_result"
    }
   ],
   "source": [
    "index_list_ru_8170 = cos_df.sort_values(0,ascending=False).head(10).index\n",
    "index_list_ru_8170"
   ]
  },
  {
   "cell_type": "code",
   "execution_count": 33,
   "metadata": {},
   "outputs": [
    {
     "data": {
      "text/plain": [
       "[8169, 20352, 1310, 867, 20291, 17127, 20103, 793, 1311, 20362]"
      ]
     },
     "execution_count": 33,
     "metadata": {},
     "output_type": "execute_result"
    }
   ],
   "source": [
    "index_list_ru_8170 = index_list_ru_8170 + 1\n",
    "index_list_ru_8170 = data_ru.ix[index_list_ru_8170][\"id\"].tolist()\n",
    "index_list_ru_8170"
   ]
  },
  {
   "cell_type": "markdown",
   "metadata": {},
   "source": [
    "Английский"
   ]
  },
  {
   "cell_type": "code",
   "execution_count": 34,
   "metadata": {},
   "outputs": [
    {
     "name": "stdout",
     "output_type": "stream",
     "text": [
      "Int64Index([10332], dtype='int64')\n",
      "Int64Index([14517], dtype='int64')\n"
     ]
    }
   ],
   "source": [
    "#12234\n",
    "#16871\n",
    "ind1 = data_en[data_en[\"id\"] == 12234]\n",
    "ind2 = data_en[data_en[\"id\"] == 16871]\n",
    "print(ind1.index)\n",
    "print(ind2.index)"
   ]
  },
  {
   "cell_type": "code",
   "execution_count": 35,
   "metadata": {},
   "outputs": [
    {
     "data": {
      "text/html": [
       "<div>\n",
       "<style scoped>\n",
       "    .dataframe tbody tr th:only-of-type {\n",
       "        vertical-align: middle;\n",
       "    }\n",
       "\n",
       "    .dataframe tbody tr th {\n",
       "        vertical-align: top;\n",
       "    }\n",
       "\n",
       "    .dataframe thead th {\n",
       "        text-align: right;\n",
       "    }\n",
       "</style>\n",
       "<table border=\"1\" class=\"dataframe\">\n",
       "  <thead>\n",
       "    <tr style=\"text-align: right;\">\n",
       "      <th></th>\n",
       "      <th>index</th>\n",
       "      <th>cat</th>\n",
       "      <th>desc</th>\n",
       "      <th>id</th>\n",
       "      <th>lang</th>\n",
       "      <th>name</th>\n",
       "      <th>provider</th>\n",
       "      <th>desc_words</th>\n",
       "    </tr>\n",
       "  </thead>\n",
       "  <tbody>\n",
       "    <tr>\n",
       "      <th>0</th>\n",
       "      <td>0</td>\n",
       "      <td>3/business_management|6/economics_finance</td>\n",
       "      <td>This course introduces the basic financial sta...</td>\n",
       "      <td>4</td>\n",
       "      <td>en</td>\n",
       "      <td>Accounting Cycle: The Foundation of Business M...</td>\n",
       "      <td>Canvas Network</td>\n",
       "      <td>[course, introduces, basic, financial, stateme...</td>\n",
       "    </tr>\n",
       "    <tr>\n",
       "      <th>1</th>\n",
       "      <td>1</td>\n",
       "      <td>11/law</td>\n",
       "      <td>This online course will introduce you to Ameri...</td>\n",
       "      <td>5</td>\n",
       "      <td>en</td>\n",
       "      <td>American Counter Terrorism Law</td>\n",
       "      <td>Canvas Network</td>\n",
       "      <td>[online, course, introduce, american, related,...</td>\n",
       "    </tr>\n",
       "    <tr>\n",
       "      <th>2</th>\n",
       "      <td>3</td>\n",
       "      <td>14/social_sciences</td>\n",
       "      <td>We live in a digitally connected world. The wa...</td>\n",
       "      <td>7</td>\n",
       "      <td>en</td>\n",
       "      <td>Becoming a Dynamic Educator</td>\n",
       "      <td>Canvas Network</td>\n",
       "      <td>[live, digitally, connected, world, informatio...</td>\n",
       "    </tr>\n",
       "    <tr>\n",
       "      <th>3</th>\n",
       "      <td>4</td>\n",
       "      <td>2/biology_life_sciences</td>\n",
       "      <td>This self-paced course is designed to show tha...</td>\n",
       "      <td>8</td>\n",
       "      <td>en</td>\n",
       "      <td>Bioethics</td>\n",
       "      <td>Canvas Network</td>\n",
       "      <td>[self, paced, course, designed, show, ethical,...</td>\n",
       "    </tr>\n",
       "    <tr>\n",
       "      <th>4</th>\n",
       "      <td>5</td>\n",
       "      <td>9/humanities|15/mathematics_statistics_and_dat...</td>\n",
       "      <td>This game-based course provides prospective st...</td>\n",
       "      <td>9</td>\n",
       "      <td>en</td>\n",
       "      <td>College Foundations: Reading, Writing, and Math</td>\n",
       "      <td>Canvas Network</td>\n",
       "      <td>[game, based, course, provides, prospective, s...</td>\n",
       "    </tr>\n",
       "  </tbody>\n",
       "</table>\n",
       "</div>"
      ],
      "text/plain": [
       "   index                                                cat  \\\n",
       "0      0          3/business_management|6/economics_finance   \n",
       "1      1                                             11/law   \n",
       "2      3                                 14/social_sciences   \n",
       "3      4                            2/biology_life_sciences   \n",
       "4      5  9/humanities|15/mathematics_statistics_and_dat...   \n",
       "\n",
       "                                                desc  id lang  \\\n",
       "0  This course introduces the basic financial sta...   4   en   \n",
       "1  This online course will introduce you to Ameri...   5   en   \n",
       "2  We live in a digitally connected world. The wa...   7   en   \n",
       "3  This self-paced course is designed to show tha...   8   en   \n",
       "4  This game-based course provides prospective st...   9   en   \n",
       "\n",
       "                                                name        provider  \\\n",
       "0  Accounting Cycle: The Foundation of Business M...  Canvas Network   \n",
       "1                     American Counter Terrorism Law  Canvas Network   \n",
       "2                        Becoming a Dynamic Educator  Canvas Network   \n",
       "3                                          Bioethics  Canvas Network   \n",
       "4    College Foundations: Reading, Writing, and Math  Canvas Network   \n",
       "\n",
       "                                          desc_words  \n",
       "0  [course, introduces, basic, financial, stateme...  \n",
       "1  [online, course, introduce, american, related,...  \n",
       "2  [live, digitally, connected, world, informatio...  \n",
       "3  [self, paced, course, designed, show, ethical,...  \n",
       "4  [game, based, course, provides, prospective, s...  "
      ]
     },
     "execution_count": 35,
     "metadata": {},
     "output_type": "execute_result"
    }
   ],
   "source": [
    "data_en_t = data_en.copy()\n",
    "data_en_t.head()"
   ]
  },
  {
   "cell_type": "code",
   "execution_count": 36,
   "metadata": {},
   "outputs": [
    {
     "data": {
      "text/html": [
       "<div>\n",
       "<style scoped>\n",
       "    .dataframe tbody tr th:only-of-type {\n",
       "        vertical-align: middle;\n",
       "    }\n",
       "\n",
       "    .dataframe tbody tr th {\n",
       "        vertical-align: top;\n",
       "    }\n",
       "\n",
       "    .dataframe thead th {\n",
       "        text-align: right;\n",
       "    }\n",
       "</style>\n",
       "<table border=\"1\" class=\"dataframe\">\n",
       "  <thead>\n",
       "    <tr style=\"text-align: right;\">\n",
       "      <th></th>\n",
       "      <th>index</th>\n",
       "      <th>cat</th>\n",
       "      <th>desc</th>\n",
       "      <th>id</th>\n",
       "      <th>lang</th>\n",
       "      <th>name</th>\n",
       "      <th>provider</th>\n",
       "      <th>desc_words</th>\n",
       "    </tr>\n",
       "  </thead>\n",
       "  <tbody>\n",
       "    <tr>\n",
       "      <th>0</th>\n",
       "      <td>16826</td>\n",
       "      <td>3/business_management</td>\n",
       "      <td>A course covering International Accounting St...</td>\n",
       "      <td>16871</td>\n",
       "      <td>en</td>\n",
       "      <td>IAS37 - Provisions, Contingents Liabilities &amp; ...</td>\n",
       "      <td>Udemy</td>\n",
       "      <td>[course, covering, international, accounting, ...</td>\n",
       "    </tr>\n",
       "    <tr>\n",
       "      <th>1</th>\n",
       "      <td>1</td>\n",
       "      <td>11/law</td>\n",
       "      <td>This online course will introduce you to Ameri...</td>\n",
       "      <td>5</td>\n",
       "      <td>en</td>\n",
       "      <td>American Counter Terrorism Law</td>\n",
       "      <td>Canvas Network</td>\n",
       "      <td>[online, course, introduce, american, related,...</td>\n",
       "    </tr>\n",
       "    <tr>\n",
       "      <th>2</th>\n",
       "      <td>3</td>\n",
       "      <td>14/social_sciences</td>\n",
       "      <td>We live in a digitally connected world. The wa...</td>\n",
       "      <td>7</td>\n",
       "      <td>en</td>\n",
       "      <td>Becoming a Dynamic Educator</td>\n",
       "      <td>Canvas Network</td>\n",
       "      <td>[live, digitally, connected, world, informatio...</td>\n",
       "    </tr>\n",
       "    <tr>\n",
       "      <th>3</th>\n",
       "      <td>4</td>\n",
       "      <td>2/biology_life_sciences</td>\n",
       "      <td>This self-paced course is designed to show tha...</td>\n",
       "      <td>8</td>\n",
       "      <td>en</td>\n",
       "      <td>Bioethics</td>\n",
       "      <td>Canvas Network</td>\n",
       "      <td>[self, paced, course, designed, show, ethical,...</td>\n",
       "    </tr>\n",
       "    <tr>\n",
       "      <th>4</th>\n",
       "      <td>5</td>\n",
       "      <td>9/humanities|15/mathematics_statistics_and_dat...</td>\n",
       "      <td>This game-based course provides prospective st...</td>\n",
       "      <td>9</td>\n",
       "      <td>en</td>\n",
       "      <td>College Foundations: Reading, Writing, and Math</td>\n",
       "      <td>Canvas Network</td>\n",
       "      <td>[game, based, course, provides, prospective, s...</td>\n",
       "    </tr>\n",
       "  </tbody>\n",
       "</table>\n",
       "</div>"
      ],
      "text/plain": [
       "   index                                                cat  \\\n",
       "0  16826                              3/business_management   \n",
       "1      1                                             11/law   \n",
       "2      3                                 14/social_sciences   \n",
       "3      4                            2/biology_life_sciences   \n",
       "4      5  9/humanities|15/mathematics_statistics_and_dat...   \n",
       "\n",
       "                                                desc     id lang  \\\n",
       "0   A course covering International Accounting St...  16871   en   \n",
       "1  This online course will introduce you to Ameri...      5   en   \n",
       "2  We live in a digitally connected world. The wa...      7   en   \n",
       "3  This self-paced course is designed to show tha...      8   en   \n",
       "4  This game-based course provides prospective st...      9   en   \n",
       "\n",
       "                                                name        provider  \\\n",
       "0  IAS37 - Provisions, Contingents Liabilities & ...           Udemy   \n",
       "1                     American Counter Terrorism Law  Canvas Network   \n",
       "2                        Becoming a Dynamic Educator  Canvas Network   \n",
       "3                                          Bioethics  Canvas Network   \n",
       "4    College Foundations: Reading, Writing, and Math  Canvas Network   \n",
       "\n",
       "                                          desc_words  \n",
       "0  [course, covering, international, accounting, ...  \n",
       "1  [online, course, introduce, american, related,...  \n",
       "2  [live, digitally, connected, world, informatio...  \n",
       "3  [self, paced, course, designed, show, ethical,...  \n",
       "4  [game, based, course, provides, prospective, s...  "
      ]
     },
     "execution_count": 36,
     "metadata": {},
     "output_type": "execute_result"
    }
   ],
   "source": [
    "b, c = data_en.iloc[0], data_en.iloc[14517]\n",
    "temp = data_en.iloc[0].copy()\n",
    "data_en.iloc[0] = c\n",
    "data_en.iloc[14517] = temp\n",
    "data_en.head()"
   ]
  },
  {
   "cell_type": "code",
   "execution_count": 37,
   "metadata": {},
   "outputs": [
    {
     "name": "stdout",
     "output_type": "stream",
     "text": [
      "CPU times: user 17.1 s, sys: 12.3 s, total: 29.5 s\n",
      "Wall time: 19.5 s\n"
     ]
    }
   ],
   "source": [
    "%%time\n",
    "vectorizer_en = TfidfVectorizer()\n",
    "data_en[\"desc_words\"] = data_en[\"desc_words\"].apply(' '.join)\n",
    "matrix = vectorizer_en.fit_transform(data_en[\"desc_words\"]).toarray()"
   ]
  },
  {
   "cell_type": "code",
   "execution_count": 38,
   "metadata": {},
   "outputs": [
    {
     "data": {
      "text/plain": [
       "(1, 24552)"
      ]
     },
     "execution_count": 38,
     "metadata": {},
     "output_type": "execute_result"
    }
   ],
   "source": [
    "cos_m = cosine_similarity(matrix[0].reshape(1,-1), matrix[1:])\n",
    "cos_m.shape"
   ]
  },
  {
   "cell_type": "code",
   "execution_count": 39,
   "metadata": {},
   "outputs": [
    {
     "data": {
      "text/plain": [
       "array([[0.01166859],\n",
       "       [0.0050036 ],\n",
       "       [0.03885044],\n",
       "       ...,\n",
       "       [0.03536687],\n",
       "       [0.02024979],\n",
       "       [0.02251061]])"
      ]
     },
     "execution_count": 39,
     "metadata": {},
     "output_type": "execute_result"
    }
   ],
   "source": [
    "cos_m = cos_m.reshape(24552,1)\n",
    "cos_m"
   ]
  },
  {
   "cell_type": "code",
   "execution_count": 40,
   "metadata": {},
   "outputs": [
    {
     "data": {
      "text/html": [
       "<div>\n",
       "<style scoped>\n",
       "    .dataframe tbody tr th:only-of-type {\n",
       "        vertical-align: middle;\n",
       "    }\n",
       "\n",
       "    .dataframe tbody tr th {\n",
       "        vertical-align: top;\n",
       "    }\n",
       "\n",
       "    .dataframe thead th {\n",
       "        text-align: right;\n",
       "    }\n",
       "</style>\n",
       "<table border=\"1\" class=\"dataframe\">\n",
       "  <thead>\n",
       "    <tr style=\"text-align: right;\">\n",
       "      <th></th>\n",
       "      <th>0</th>\n",
       "    </tr>\n",
       "  </thead>\n",
       "  <tbody>\n",
       "    <tr>\n",
       "      <th>0</th>\n",
       "      <td>0.011669</td>\n",
       "    </tr>\n",
       "    <tr>\n",
       "      <th>1</th>\n",
       "      <td>0.005004</td>\n",
       "    </tr>\n",
       "    <tr>\n",
       "      <th>2</th>\n",
       "      <td>0.038850</td>\n",
       "    </tr>\n",
       "    <tr>\n",
       "      <th>3</th>\n",
       "      <td>0.030126</td>\n",
       "    </tr>\n",
       "    <tr>\n",
       "      <th>4</th>\n",
       "      <td>0.005835</td>\n",
       "    </tr>\n",
       "  </tbody>\n",
       "</table>\n",
       "</div>"
      ],
      "text/plain": [
       "          0\n",
       "0  0.011669\n",
       "1  0.005004\n",
       "2  0.038850\n",
       "3  0.030126\n",
       "4  0.005835"
      ]
     },
     "execution_count": 40,
     "metadata": {},
     "output_type": "execute_result"
    }
   ],
   "source": [
    "cos_df = pd.DataFrame(cos_m)\n",
    "cos_df.head()"
   ]
  },
  {
   "cell_type": "code",
   "execution_count": 41,
   "metadata": {},
   "outputs": [
    {
     "data": {
      "text/plain": [
       "Int64Index([17323, 10406, 17010, 10877, 10995, 17324, 17011, 10993, 17567,\n",
       "            22728],\n",
       "           dtype='int64')"
      ]
     },
     "execution_count": 41,
     "metadata": {},
     "output_type": "execute_result"
    }
   ],
   "source": [
    "index_list_en_16871 = cos_df.sort_values(0,ascending=False).head(10).index\n",
    "index_list_en_16871"
   ]
  },
  {
   "cell_type": "code",
   "execution_count": 42,
   "metadata": {},
   "outputs": [
    {
     "data": {
      "text/plain": [
       "[20182, 12363, 19809, 12952, 13127, 20183, 19810, 13125, 20534, 26272]"
      ]
     },
     "execution_count": 42,
     "metadata": {},
     "output_type": "execute_result"
    }
   ],
   "source": [
    "index_list_en_16871 = index_list_en_16871 + 1\n",
    "index_list_en_16871 = data_en.ix[index_list_en_16871][\"id\"].tolist()\n",
    "index_list_en_16871"
   ]
  },
  {
   "cell_type": "code",
   "execution_count": 43,
   "metadata": {},
   "outputs": [
    {
     "data": {
      "text/html": [
       "<div>\n",
       "<style scoped>\n",
       "    .dataframe tbody tr th:only-of-type {\n",
       "        vertical-align: middle;\n",
       "    }\n",
       "\n",
       "    .dataframe tbody tr th {\n",
       "        vertical-align: top;\n",
       "    }\n",
       "\n",
       "    .dataframe thead th {\n",
       "        text-align: right;\n",
       "    }\n",
       "</style>\n",
       "<table border=\"1\" class=\"dataframe\">\n",
       "  <thead>\n",
       "    <tr style=\"text-align: right;\">\n",
       "      <th></th>\n",
       "      <th>index</th>\n",
       "      <th>cat</th>\n",
       "      <th>desc</th>\n",
       "      <th>id</th>\n",
       "      <th>lang</th>\n",
       "      <th>name</th>\n",
       "      <th>provider</th>\n",
       "      <th>desc_words</th>\n",
       "    </tr>\n",
       "  </thead>\n",
       "  <tbody>\n",
       "    <tr>\n",
       "      <th>0</th>\n",
       "      <td>0</td>\n",
       "      <td>3/business_management|6/economics_finance</td>\n",
       "      <td>This course introduces the basic financial sta...</td>\n",
       "      <td>4</td>\n",
       "      <td>en</td>\n",
       "      <td>Accounting Cycle: The Foundation of Business M...</td>\n",
       "      <td>Canvas Network</td>\n",
       "      <td>[course, introduces, basic, financial, stateme...</td>\n",
       "    </tr>\n",
       "    <tr>\n",
       "      <th>1</th>\n",
       "      <td>1</td>\n",
       "      <td>11/law</td>\n",
       "      <td>This online course will introduce you to Ameri...</td>\n",
       "      <td>5</td>\n",
       "      <td>en</td>\n",
       "      <td>American Counter Terrorism Law</td>\n",
       "      <td>Canvas Network</td>\n",
       "      <td>[online, course, introduce, american, related,...</td>\n",
       "    </tr>\n",
       "    <tr>\n",
       "      <th>2</th>\n",
       "      <td>3</td>\n",
       "      <td>14/social_sciences</td>\n",
       "      <td>We live in a digitally connected world. The wa...</td>\n",
       "      <td>7</td>\n",
       "      <td>en</td>\n",
       "      <td>Becoming a Dynamic Educator</td>\n",
       "      <td>Canvas Network</td>\n",
       "      <td>[live, digitally, connected, world, informatio...</td>\n",
       "    </tr>\n",
       "    <tr>\n",
       "      <th>3</th>\n",
       "      <td>4</td>\n",
       "      <td>2/biology_life_sciences</td>\n",
       "      <td>This self-paced course is designed to show tha...</td>\n",
       "      <td>8</td>\n",
       "      <td>en</td>\n",
       "      <td>Bioethics</td>\n",
       "      <td>Canvas Network</td>\n",
       "      <td>[self, paced, course, designed, show, ethical,...</td>\n",
       "    </tr>\n",
       "    <tr>\n",
       "      <th>4</th>\n",
       "      <td>5</td>\n",
       "      <td>9/humanities|15/mathematics_statistics_and_dat...</td>\n",
       "      <td>This game-based course provides prospective st...</td>\n",
       "      <td>9</td>\n",
       "      <td>en</td>\n",
       "      <td>College Foundations: Reading, Writing, and Math</td>\n",
       "      <td>Canvas Network</td>\n",
       "      <td>[game, based, course, provides, prospective, s...</td>\n",
       "    </tr>\n",
       "  </tbody>\n",
       "</table>\n",
       "</div>"
      ],
      "text/plain": [
       "   index                                                cat  \\\n",
       "0      0          3/business_management|6/economics_finance   \n",
       "1      1                                             11/law   \n",
       "2      3                                 14/social_sciences   \n",
       "3      4                            2/biology_life_sciences   \n",
       "4      5  9/humanities|15/mathematics_statistics_and_dat...   \n",
       "\n",
       "                                                desc  id lang  \\\n",
       "0  This course introduces the basic financial sta...   4   en   \n",
       "1  This online course will introduce you to Ameri...   5   en   \n",
       "2  We live in a digitally connected world. The wa...   7   en   \n",
       "3  This self-paced course is designed to show tha...   8   en   \n",
       "4  This game-based course provides prospective st...   9   en   \n",
       "\n",
       "                                                name        provider  \\\n",
       "0  Accounting Cycle: The Foundation of Business M...  Canvas Network   \n",
       "1                     American Counter Terrorism Law  Canvas Network   \n",
       "2                        Becoming a Dynamic Educator  Canvas Network   \n",
       "3                                          Bioethics  Canvas Network   \n",
       "4    College Foundations: Reading, Writing, and Math  Canvas Network   \n",
       "\n",
       "                                          desc_words  \n",
       "0  [course, introduces, basic, financial, stateme...  \n",
       "1  [online, course, introduce, american, related,...  \n",
       "2  [live, digitally, connected, world, informatio...  \n",
       "3  [self, paced, course, designed, show, ethical,...  \n",
       "4  [game, based, course, provides, prospective, s...  "
      ]
     },
     "execution_count": 43,
     "metadata": {},
     "output_type": "execute_result"
    }
   ],
   "source": [
    "data_en = data_en_t.copy()\n",
    "data_en.head()"
   ]
  },
  {
   "cell_type": "code",
   "execution_count": 44,
   "metadata": {},
   "outputs": [
    {
     "data": {
      "text/html": [
       "<div>\n",
       "<style scoped>\n",
       "    .dataframe tbody tr th:only-of-type {\n",
       "        vertical-align: middle;\n",
       "    }\n",
       "\n",
       "    .dataframe tbody tr th {\n",
       "        vertical-align: top;\n",
       "    }\n",
       "\n",
       "    .dataframe thead th {\n",
       "        text-align: right;\n",
       "    }\n",
       "</style>\n",
       "<table border=\"1\" class=\"dataframe\">\n",
       "  <thead>\n",
       "    <tr style=\"text-align: right;\">\n",
       "      <th></th>\n",
       "      <th>index</th>\n",
       "      <th>cat</th>\n",
       "      <th>desc</th>\n",
       "      <th>id</th>\n",
       "      <th>lang</th>\n",
       "      <th>name</th>\n",
       "      <th>provider</th>\n",
       "      <th>desc_words</th>\n",
       "    </tr>\n",
       "  </thead>\n",
       "  <tbody>\n",
       "    <tr>\n",
       "      <th>0</th>\n",
       "      <td>12204</td>\n",
       "      <td>15/mathematics_statistics_and_data_analysis</td>\n",
       "      <td>This graduate-level course is a computationall...</td>\n",
       "      <td>12234</td>\n",
       "      <td>en</td>\n",
       "      <td>Elliptic Curves</td>\n",
       "      <td>MIT OpenCourseWare</td>\n",
       "      <td>[graduate, level, course, computationally, foc...</td>\n",
       "    </tr>\n",
       "    <tr>\n",
       "      <th>1</th>\n",
       "      <td>1</td>\n",
       "      <td>11/law</td>\n",
       "      <td>This online course will introduce you to Ameri...</td>\n",
       "      <td>5</td>\n",
       "      <td>en</td>\n",
       "      <td>American Counter Terrorism Law</td>\n",
       "      <td>Canvas Network</td>\n",
       "      <td>[online, course, introduce, american, related,...</td>\n",
       "    </tr>\n",
       "    <tr>\n",
       "      <th>2</th>\n",
       "      <td>3</td>\n",
       "      <td>14/social_sciences</td>\n",
       "      <td>We live in a digitally connected world. The wa...</td>\n",
       "      <td>7</td>\n",
       "      <td>en</td>\n",
       "      <td>Becoming a Dynamic Educator</td>\n",
       "      <td>Canvas Network</td>\n",
       "      <td>[live, digitally, connected, world, informatio...</td>\n",
       "    </tr>\n",
       "    <tr>\n",
       "      <th>3</th>\n",
       "      <td>4</td>\n",
       "      <td>2/biology_life_sciences</td>\n",
       "      <td>This self-paced course is designed to show tha...</td>\n",
       "      <td>8</td>\n",
       "      <td>en</td>\n",
       "      <td>Bioethics</td>\n",
       "      <td>Canvas Network</td>\n",
       "      <td>[self, paced, course, designed, show, ethical,...</td>\n",
       "    </tr>\n",
       "    <tr>\n",
       "      <th>4</th>\n",
       "      <td>5</td>\n",
       "      <td>9/humanities|15/mathematics_statistics_and_dat...</td>\n",
       "      <td>This game-based course provides prospective st...</td>\n",
       "      <td>9</td>\n",
       "      <td>en</td>\n",
       "      <td>College Foundations: Reading, Writing, and Math</td>\n",
       "      <td>Canvas Network</td>\n",
       "      <td>[game, based, course, provides, prospective, s...</td>\n",
       "    </tr>\n",
       "  </tbody>\n",
       "</table>\n",
       "</div>"
      ],
      "text/plain": [
       "   index                                                cat  \\\n",
       "0  12204        15/mathematics_statistics_and_data_analysis   \n",
       "1      1                                             11/law   \n",
       "2      3                                 14/social_sciences   \n",
       "3      4                            2/biology_life_sciences   \n",
       "4      5  9/humanities|15/mathematics_statistics_and_dat...   \n",
       "\n",
       "                                                desc     id lang  \\\n",
       "0  This graduate-level course is a computationall...  12234   en   \n",
       "1  This online course will introduce you to Ameri...      5   en   \n",
       "2  We live in a digitally connected world. The wa...      7   en   \n",
       "3  This self-paced course is designed to show tha...      8   en   \n",
       "4  This game-based course provides prospective st...      9   en   \n",
       "\n",
       "                                              name            provider  \\\n",
       "0                                  Elliptic Curves  MIT OpenCourseWare   \n",
       "1                   American Counter Terrorism Law      Canvas Network   \n",
       "2                      Becoming a Dynamic Educator      Canvas Network   \n",
       "3                                        Bioethics      Canvas Network   \n",
       "4  College Foundations: Reading, Writing, and Math      Canvas Network   \n",
       "\n",
       "                                          desc_words  \n",
       "0  [graduate, level, course, computationally, foc...  \n",
       "1  [online, course, introduce, american, related,...  \n",
       "2  [live, digitally, connected, world, informatio...  \n",
       "3  [self, paced, course, designed, show, ethical,...  \n",
       "4  [game, based, course, provides, prospective, s...  "
      ]
     },
     "execution_count": 44,
     "metadata": {},
     "output_type": "execute_result"
    }
   ],
   "source": [
    "b, c = data_en.iloc[0], data_en.iloc[10332]\n",
    "temp = data_en.iloc[0].copy()\n",
    "data_en.iloc[0] = c\n",
    "data_en.iloc[10332] = temp\n",
    "data_en.head()"
   ]
  },
  {
   "cell_type": "code",
   "execution_count": 45,
   "metadata": {},
   "outputs": [
    {
     "name": "stdout",
     "output_type": "stream",
     "text": [
      "CPU times: user 20.8 s, sys: 6.43 s, total: 27.2 s\n",
      "Wall time: 17.4 s\n"
     ]
    }
   ],
   "source": [
    "%%time\n",
    "vectorizer_en = TfidfVectorizer()\n",
    "data_en[\"desc_words\"] = data_en[\"desc_words\"].apply(' '.join)\n",
    "matrix = vectorizer_en.fit_transform(data_en[\"desc_words\"]).toarray()"
   ]
  },
  {
   "cell_type": "code",
   "execution_count": 46,
   "metadata": {},
   "outputs": [
    {
     "data": {
      "text/plain": [
       "(1, 24552)"
      ]
     },
     "execution_count": 46,
     "metadata": {},
     "output_type": "execute_result"
    }
   ],
   "source": [
    "cos_m = cosine_similarity(matrix[0].reshape(1,-1), matrix[1:])\n",
    "cos_m.shape"
   ]
  },
  {
   "cell_type": "code",
   "execution_count": 47,
   "metadata": {},
   "outputs": [
    {
     "data": {
      "text/plain": [
       "array([[0.00450845],\n",
       "       [0.00670627],\n",
       "       [0.01695588],\n",
       "       ...,\n",
       "       [0.00272181],\n",
       "       [0.00660777],\n",
       "       [0.01832073]])"
      ]
     },
     "execution_count": 47,
     "metadata": {},
     "output_type": "execute_result"
    }
   ],
   "source": [
    "cos_m = cos_m.reshape(24552,1)\n",
    "cos_m"
   ]
  },
  {
   "cell_type": "code",
   "execution_count": 48,
   "metadata": {},
   "outputs": [
    {
     "data": {
      "text/html": [
       "<div>\n",
       "<style scoped>\n",
       "    .dataframe tbody tr th:only-of-type {\n",
       "        vertical-align: middle;\n",
       "    }\n",
       "\n",
       "    .dataframe tbody tr th {\n",
       "        vertical-align: top;\n",
       "    }\n",
       "\n",
       "    .dataframe thead th {\n",
       "        text-align: right;\n",
       "    }\n",
       "</style>\n",
       "<table border=\"1\" class=\"dataframe\">\n",
       "  <thead>\n",
       "    <tr style=\"text-align: right;\">\n",
       "      <th></th>\n",
       "      <th>0</th>\n",
       "    </tr>\n",
       "  </thead>\n",
       "  <tbody>\n",
       "    <tr>\n",
       "      <th>0</th>\n",
       "      <td>0.004508</td>\n",
       "    </tr>\n",
       "    <tr>\n",
       "      <th>1</th>\n",
       "      <td>0.006706</td>\n",
       "    </tr>\n",
       "    <tr>\n",
       "      <th>2</th>\n",
       "      <td>0.016956</td>\n",
       "    </tr>\n",
       "    <tr>\n",
       "      <th>3</th>\n",
       "      <td>0.026485</td>\n",
       "    </tr>\n",
       "    <tr>\n",
       "      <th>4</th>\n",
       "      <td>0.004958</td>\n",
       "    </tr>\n",
       "  </tbody>\n",
       "</table>\n",
       "</div>"
      ],
      "text/plain": [
       "          0\n",
       "0  0.004508\n",
       "1  0.006706\n",
       "2  0.016956\n",
       "3  0.026485\n",
       "4  0.004958"
      ]
     },
     "execution_count": 48,
     "metadata": {},
     "output_type": "execute_result"
    }
   ],
   "source": [
    "cos_df = pd.DataFrame(cos_m)\n",
    "cos_df.head()"
   ]
  },
  {
   "cell_type": "code",
   "execution_count": 49,
   "metadata": {},
   "outputs": [
    {
     "data": {
      "text/plain": [
       "Int64Index([19948, 1443, 1441, 1440, 6971, 1044, 10417, 9555, 137, 1439], dtype='int64')"
      ]
     },
     "execution_count": 49,
     "metadata": {},
     "output_type": "execute_result"
    }
   ],
   "source": [
    "index_list_en_12234 = cos_df.sort_values(0,ascending=False).head(10).index\n",
    "index_list_en_12234"
   ]
  },
  {
   "cell_type": "code",
   "execution_count": 50,
   "metadata": {},
   "outputs": [
    {
     "data": {
      "text/plain": [
       "[23256, 2164, 2162, 2161, 8101, 1765, 12384, 11273, 164, 2160]"
      ]
     },
     "execution_count": 50,
     "metadata": {},
     "output_type": "execute_result"
    }
   ],
   "source": [
    "index_list_en_12234 = index_list_en_12234 + 1\n",
    "index_list_en_12234 = data_en.ix[index_list_en_12234][\"id\"].tolist()\n",
    "index_list_en_12234"
   ]
  },
  {
   "cell_type": "markdown",
   "metadata": {},
   "source": [
    "#### Испанский"
   ]
  },
  {
   "cell_type": "code",
   "execution_count": 51,
   "metadata": {},
   "outputs": [
    {
     "name": "stdout",
     "output_type": "stream",
     "text": [
      "Int64Index([256], dtype='int64')\n",
      "Int64Index([978], dtype='int64')\n"
     ]
    }
   ],
   "source": [
    "#9029\n",
    "#18030\n",
    "ind1 = data_es[data_es[\"id\"] == 9029]\n",
    "ind2 = data_es[data_es[\"id\"] == 18030]\n",
    "print(ind1.index)\n",
    "print(ind2.index)"
   ]
  },
  {
   "cell_type": "code",
   "execution_count": 52,
   "metadata": {},
   "outputs": [
    {
     "data": {
      "text/html": [
       "<div>\n",
       "<style scoped>\n",
       "    .dataframe tbody tr th:only-of-type {\n",
       "        vertical-align: middle;\n",
       "    }\n",
       "\n",
       "    .dataframe tbody tr th {\n",
       "        vertical-align: top;\n",
       "    }\n",
       "\n",
       "    .dataframe thead th {\n",
       "        text-align: right;\n",
       "    }\n",
       "</style>\n",
       "<table border=\"1\" class=\"dataframe\">\n",
       "  <thead>\n",
       "    <tr style=\"text-align: right;\">\n",
       "      <th></th>\n",
       "      <th>index</th>\n",
       "      <th>cat</th>\n",
       "      <th>desc</th>\n",
       "      <th>id</th>\n",
       "      <th>lang</th>\n",
       "      <th>name</th>\n",
       "      <th>provider</th>\n",
       "      <th>desc_words</th>\n",
       "    </tr>\n",
       "  </thead>\n",
       "  <tbody>\n",
       "    <tr>\n",
       "      <th>0</th>\n",
       "      <td>55</td>\n",
       "      <td></td>\n",
       "      <td>A través de diferentes actividades de campo el...</td>\n",
       "      <td>59</td>\n",
       "      <td>es</td>\n",
       "      <td>El ABC del emprendimiento esbelto</td>\n",
       "      <td>Coursera</td>\n",
       "      <td>[traves, diferent, activ, camp, particip, pers...</td>\n",
       "    </tr>\n",
       "    <tr>\n",
       "      <th>1</th>\n",
       "      <td>120</td>\n",
       "      <td>2/biology_life_sciences|9/humanities</td>\n",
       "      <td>Aprenderemos cómo podemos usar el pensamiento ...</td>\n",
       "      <td>124</td>\n",
       "      <td>es</td>\n",
       "      <td>Pensamiento Científico</td>\n",
       "      <td>Coursera</td>\n",
       "      <td>[aprend, usar, pensamient, cientif, cotidian, ...</td>\n",
       "    </tr>\n",
       "    <tr>\n",
       "      <th>2</th>\n",
       "      <td>156</td>\n",
       "      <td>8/engineering_technology|9/humanities|14/socia...</td>\n",
       "      <td>¡Claro que todos podemos potenciar nuestra cre...</td>\n",
       "      <td>160</td>\n",
       "      <td>es</td>\n",
       "      <td>Ser más creativos</td>\n",
       "      <td>Coursera</td>\n",
       "      <td>[clar, potenci, creativ, traves, proced, rutin...</td>\n",
       "    </tr>\n",
       "    <tr>\n",
       "      <th>3</th>\n",
       "      <td>162</td>\n",
       "      <td>7/energy_earth_sciences|9/humanities|13/physic...</td>\n",
       "      <td>Este curso provee al estudiante con conceptos ...</td>\n",
       "      <td>166</td>\n",
       "      <td>es</td>\n",
       "      <td>Conceptos y Herramientas para la Física Univer...</td>\n",
       "      <td>Coursera</td>\n",
       "      <td>[curs, prove, estudi, concept, herramient, mat...</td>\n",
       "    </tr>\n",
       "    <tr>\n",
       "      <th>4</th>\n",
       "      <td>192</td>\n",
       "      <td>9/humanities</td>\n",
       "      <td>Este curso introduce a los estudiantes de grad...</td>\n",
       "      <td>196</td>\n",
       "      <td>es</td>\n",
       "      <td>Egiptología (Egyptology)</td>\n",
       "      <td>Coursera</td>\n",
       "      <td>[curs, introduc, estudi, grad, public, habl, h...</td>\n",
       "    </tr>\n",
       "  </tbody>\n",
       "</table>\n",
       "</div>"
      ],
      "text/plain": [
       "   index                                                cat  \\\n",
       "0     55                                                      \n",
       "1    120               2/biology_life_sciences|9/humanities   \n",
       "2    156  8/engineering_technology|9/humanities|14/socia...   \n",
       "3    162  7/energy_earth_sciences|9/humanities|13/physic...   \n",
       "4    192                                       9/humanities   \n",
       "\n",
       "                                                desc   id lang  \\\n",
       "0  A través de diferentes actividades de campo el...   59   es   \n",
       "1  Aprenderemos cómo podemos usar el pensamiento ...  124   es   \n",
       "2  ¡Claro que todos podemos potenciar nuestra cre...  160   es   \n",
       "3  Este curso provee al estudiante con conceptos ...  166   es   \n",
       "4  Este curso introduce a los estudiantes de grad...  196   es   \n",
       "\n",
       "                                                name  provider  \\\n",
       "0                  El ABC del emprendimiento esbelto  Coursera   \n",
       "1                             Pensamiento Científico  Coursera   \n",
       "2                                  Ser más creativos  Coursera   \n",
       "3  Conceptos y Herramientas para la Física Univer...  Coursera   \n",
       "4                           Egiptología (Egyptology)  Coursera   \n",
       "\n",
       "                                          desc_words  \n",
       "0  [traves, diferent, activ, camp, particip, pers...  \n",
       "1  [aprend, usar, pensamient, cientif, cotidian, ...  \n",
       "2  [clar, potenci, creativ, traves, proced, rutin...  \n",
       "3  [curs, prove, estudi, concept, herramient, mat...  \n",
       "4  [curs, introduc, estudi, grad, public, habl, h...  "
      ]
     },
     "execution_count": 52,
     "metadata": {},
     "output_type": "execute_result"
    }
   ],
   "source": [
    "data_es_t = data_es.copy()\n",
    "data_es_t.head()"
   ]
  },
  {
   "cell_type": "code",
   "execution_count": 53,
   "metadata": {},
   "outputs": [
    {
     "data": {
      "text/html": [
       "<div>\n",
       "<style scoped>\n",
       "    .dataframe tbody tr th:only-of-type {\n",
       "        vertical-align: middle;\n",
       "    }\n",
       "\n",
       "    .dataframe tbody tr th {\n",
       "        vertical-align: top;\n",
       "    }\n",
       "\n",
       "    .dataframe thead th {\n",
       "        text-align: right;\n",
       "    }\n",
       "</style>\n",
       "<table border=\"1\" class=\"dataframe\">\n",
       "  <thead>\n",
       "    <tr style=\"text-align: right;\">\n",
       "      <th></th>\n",
       "      <th>index</th>\n",
       "      <th>cat</th>\n",
       "      <th>desc</th>\n",
       "      <th>id</th>\n",
       "      <th>lang</th>\n",
       "      <th>name</th>\n",
       "      <th>provider</th>\n",
       "      <th>desc_words</th>\n",
       "    </tr>\n",
       "  </thead>\n",
       "  <tbody>\n",
       "    <tr>\n",
       "      <th>0</th>\n",
       "      <td>8999</td>\n",
       "      <td>3/business_management</td>\n",
       "      <td>Curso de Bolsa para principiantes Un curso to...</td>\n",
       "      <td>9029</td>\n",
       "      <td>es</td>\n",
       "      <td>Aprende a Ganar Dinero en la Bolsa by Diego Qu...</td>\n",
       "      <td>Udemy</td>\n",
       "      <td>[curs, bols, principi, curs, total, diseñ, pri...</td>\n",
       "    </tr>\n",
       "    <tr>\n",
       "      <th>1</th>\n",
       "      <td>120</td>\n",
       "      <td>2/biology_life_sciences|9/humanities</td>\n",
       "      <td>Aprenderemos cómo podemos usar el pensamiento ...</td>\n",
       "      <td>124</td>\n",
       "      <td>es</td>\n",
       "      <td>Pensamiento Científico</td>\n",
       "      <td>Coursera</td>\n",
       "      <td>[aprend, usar, pensamient, cientif, cotidian, ...</td>\n",
       "    </tr>\n",
       "    <tr>\n",
       "      <th>2</th>\n",
       "      <td>156</td>\n",
       "      <td>8/engineering_technology|9/humanities|14/socia...</td>\n",
       "      <td>¡Claro que todos podemos potenciar nuestra cre...</td>\n",
       "      <td>160</td>\n",
       "      <td>es</td>\n",
       "      <td>Ser más creativos</td>\n",
       "      <td>Coursera</td>\n",
       "      <td>[clar, potenci, creativ, traves, proced, rutin...</td>\n",
       "    </tr>\n",
       "    <tr>\n",
       "      <th>3</th>\n",
       "      <td>162</td>\n",
       "      <td>7/energy_earth_sciences|9/humanities|13/physic...</td>\n",
       "      <td>Este curso provee al estudiante con conceptos ...</td>\n",
       "      <td>166</td>\n",
       "      <td>es</td>\n",
       "      <td>Conceptos y Herramientas para la Física Univer...</td>\n",
       "      <td>Coursera</td>\n",
       "      <td>[curs, prove, estudi, concept, herramient, mat...</td>\n",
       "    </tr>\n",
       "    <tr>\n",
       "      <th>4</th>\n",
       "      <td>192</td>\n",
       "      <td>9/humanities</td>\n",
       "      <td>Este curso introduce a los estudiantes de grad...</td>\n",
       "      <td>196</td>\n",
       "      <td>es</td>\n",
       "      <td>Egiptología (Egyptology)</td>\n",
       "      <td>Coursera</td>\n",
       "      <td>[curs, introduc, estudi, grad, public, habl, h...</td>\n",
       "    </tr>\n",
       "  </tbody>\n",
       "</table>\n",
       "</div>"
      ],
      "text/plain": [
       "   index                                                cat  \\\n",
       "0   8999                              3/business_management   \n",
       "1    120               2/biology_life_sciences|9/humanities   \n",
       "2    156  8/engineering_technology|9/humanities|14/socia...   \n",
       "3    162  7/energy_earth_sciences|9/humanities|13/physic...   \n",
       "4    192                                       9/humanities   \n",
       "\n",
       "                                                desc    id lang  \\\n",
       "0   Curso de Bolsa para principiantes Un curso to...  9029   es   \n",
       "1  Aprenderemos cómo podemos usar el pensamiento ...   124   es   \n",
       "2  ¡Claro que todos podemos potenciar nuestra cre...   160   es   \n",
       "3  Este curso provee al estudiante con conceptos ...   166   es   \n",
       "4  Este curso introduce a los estudiantes de grad...   196   es   \n",
       "\n",
       "                                                name  provider  \\\n",
       "0  Aprende a Ganar Dinero en la Bolsa by Diego Qu...     Udemy   \n",
       "1                             Pensamiento Científico  Coursera   \n",
       "2                                  Ser más creativos  Coursera   \n",
       "3  Conceptos y Herramientas para la Física Univer...  Coursera   \n",
       "4                           Egiptología (Egyptology)  Coursera   \n",
       "\n",
       "                                          desc_words  \n",
       "0  [curs, bols, principi, curs, total, diseñ, pri...  \n",
       "1  [aprend, usar, pensamient, cientif, cotidian, ...  \n",
       "2  [clar, potenci, creativ, traves, proced, rutin...  \n",
       "3  [curs, prove, estudi, concept, herramient, mat...  \n",
       "4  [curs, introduc, estudi, grad, public, habl, h...  "
      ]
     },
     "execution_count": 53,
     "metadata": {},
     "output_type": "execute_result"
    }
   ],
   "source": [
    "b, c = data_es.iloc[0], data_es.iloc[256]\n",
    "temp = data_es.iloc[0].copy()\n",
    "data_es.iloc[0] = c\n",
    "data_es.iloc[256] = temp\n",
    "data_es.head()"
   ]
  },
  {
   "cell_type": "code",
   "execution_count": 54,
   "metadata": {},
   "outputs": [
    {
     "name": "stdout",
     "output_type": "stream",
     "text": [
      "CPU times: user 7.3 s, sys: 0 ns, total: 7.3 s\n",
      "Wall time: 1.68 s\n"
     ]
    }
   ],
   "source": [
    "%%time\n",
    "vectorizer_es = TfidfVectorizer()\n",
    "data_es[\"desc_words\"] = data_es[\"desc_words\"].apply(' '.join)\n",
    "matrix = vectorizer_es.fit_transform(data_es[\"desc_words\"]).toarray()"
   ]
  },
  {
   "cell_type": "code",
   "execution_count": 55,
   "metadata": {},
   "outputs": [
    {
     "data": {
      "text/plain": [
       "(1, 1373)"
      ]
     },
     "execution_count": 55,
     "metadata": {},
     "output_type": "execute_result"
    }
   ],
   "source": [
    "cos_m = cosine_similarity(matrix[0].reshape(1,-1), matrix[1:])\n",
    "cos_m.shape"
   ]
  },
  {
   "cell_type": "code",
   "execution_count": 56,
   "metadata": {},
   "outputs": [
    {
     "data": {
      "text/plain": [
       "array([[0.02492811],\n",
       "       [0.02629384],\n",
       "       [0.03164548],\n",
       "       ...,\n",
       "       [0.01154038],\n",
       "       [0.01378132],\n",
       "       [0.0143144 ]])"
      ]
     },
     "execution_count": 56,
     "metadata": {},
     "output_type": "execute_result"
    }
   ],
   "source": [
    "cos_m = cos_m.reshape(1373,1)\n",
    "cos_m"
   ]
  },
  {
   "cell_type": "code",
   "execution_count": 57,
   "metadata": {},
   "outputs": [
    {
     "data": {
      "text/html": [
       "<div>\n",
       "<style scoped>\n",
       "    .dataframe tbody tr th:only-of-type {\n",
       "        vertical-align: middle;\n",
       "    }\n",
       "\n",
       "    .dataframe tbody tr th {\n",
       "        vertical-align: top;\n",
       "    }\n",
       "\n",
       "    .dataframe thead th {\n",
       "        text-align: right;\n",
       "    }\n",
       "</style>\n",
       "<table border=\"1\" class=\"dataframe\">\n",
       "  <thead>\n",
       "    <tr style=\"text-align: right;\">\n",
       "      <th></th>\n",
       "      <th>0</th>\n",
       "    </tr>\n",
       "  </thead>\n",
       "  <tbody>\n",
       "    <tr>\n",
       "      <th>0</th>\n",
       "      <td>0.024928</td>\n",
       "    </tr>\n",
       "    <tr>\n",
       "      <th>1</th>\n",
       "      <td>0.026294</td>\n",
       "    </tr>\n",
       "    <tr>\n",
       "      <th>2</th>\n",
       "      <td>0.031645</td>\n",
       "    </tr>\n",
       "    <tr>\n",
       "      <th>3</th>\n",
       "      <td>0.019513</td>\n",
       "    </tr>\n",
       "    <tr>\n",
       "      <th>4</th>\n",
       "      <td>0.033724</td>\n",
       "    </tr>\n",
       "  </tbody>\n",
       "</table>\n",
       "</div>"
      ],
      "text/plain": [
       "          0\n",
       "0  0.024928\n",
       "1  0.026294\n",
       "2  0.031645\n",
       "3  0.019513\n",
       "4  0.033724"
      ]
     },
     "execution_count": 57,
     "metadata": {},
     "output_type": "execute_result"
    }
   ],
   "source": [
    "cos_df = pd.DataFrame(cos_m)\n",
    "cos_df.head()"
   ]
  },
  {
   "cell_type": "code",
   "execution_count": 58,
   "metadata": {},
   "outputs": [
    {
     "data": {
      "text/plain": [
       "Int64Index([102, 324, 1050, 987, 299, 1223, 55, 1195, 1078, 21], dtype='int64')"
      ]
     },
     "execution_count": 58,
     "metadata": {},
     "output_type": "execute_result"
    }
   ],
   "source": [
    "index_list_es_9029 = cos_df.sort_values(0,ascending=False).head(10).index\n",
    "index_list_es_9029"
   ]
  },
  {
   "cell_type": "code",
   "execution_count": 59,
   "metadata": {},
   "outputs": [
    {
     "data": {
      "text/plain": [
       "[5557, 9401, 20239, 18658, 9293, 23620, 4255, 23302, 21228, 3879]"
      ]
     },
     "execution_count": 59,
     "metadata": {},
     "output_type": "execute_result"
    }
   ],
   "source": [
    "index_list_es_9029 = index_list_es_9029 + 1\n",
    "index_list_es_9029 = data_es.ix[index_list_es_9029][\"id\"].tolist()\n",
    "index_list_es_9029"
   ]
  },
  {
   "cell_type": "code",
   "execution_count": 60,
   "metadata": {},
   "outputs": [
    {
     "data": {
      "text/html": [
       "<div>\n",
       "<style scoped>\n",
       "    .dataframe tbody tr th:only-of-type {\n",
       "        vertical-align: middle;\n",
       "    }\n",
       "\n",
       "    .dataframe tbody tr th {\n",
       "        vertical-align: top;\n",
       "    }\n",
       "\n",
       "    .dataframe thead th {\n",
       "        text-align: right;\n",
       "    }\n",
       "</style>\n",
       "<table border=\"1\" class=\"dataframe\">\n",
       "  <thead>\n",
       "    <tr style=\"text-align: right;\">\n",
       "      <th></th>\n",
       "      <th>index</th>\n",
       "      <th>cat</th>\n",
       "      <th>desc</th>\n",
       "      <th>id</th>\n",
       "      <th>lang</th>\n",
       "      <th>name</th>\n",
       "      <th>provider</th>\n",
       "      <th>desc_words</th>\n",
       "    </tr>\n",
       "  </thead>\n",
       "  <tbody>\n",
       "    <tr>\n",
       "      <th>0</th>\n",
       "      <td>55</td>\n",
       "      <td></td>\n",
       "      <td>A través de diferentes actividades de campo el...</td>\n",
       "      <td>59</td>\n",
       "      <td>es</td>\n",
       "      <td>El ABC del emprendimiento esbelto</td>\n",
       "      <td>Coursera</td>\n",
       "      <td>[traves, diferent, activ, camp, particip, pers...</td>\n",
       "    </tr>\n",
       "    <tr>\n",
       "      <th>1</th>\n",
       "      <td>120</td>\n",
       "      <td>2/biology_life_sciences|9/humanities</td>\n",
       "      <td>Aprenderemos cómo podemos usar el pensamiento ...</td>\n",
       "      <td>124</td>\n",
       "      <td>es</td>\n",
       "      <td>Pensamiento Científico</td>\n",
       "      <td>Coursera</td>\n",
       "      <td>[aprend, usar, pensamient, cientif, cotidian, ...</td>\n",
       "    </tr>\n",
       "    <tr>\n",
       "      <th>2</th>\n",
       "      <td>156</td>\n",
       "      <td>8/engineering_technology|9/humanities|14/socia...</td>\n",
       "      <td>¡Claro que todos podemos potenciar nuestra cre...</td>\n",
       "      <td>160</td>\n",
       "      <td>es</td>\n",
       "      <td>Ser más creativos</td>\n",
       "      <td>Coursera</td>\n",
       "      <td>[clar, potenci, creativ, traves, proced, rutin...</td>\n",
       "    </tr>\n",
       "    <tr>\n",
       "      <th>3</th>\n",
       "      <td>162</td>\n",
       "      <td>7/energy_earth_sciences|9/humanities|13/physic...</td>\n",
       "      <td>Este curso provee al estudiante con conceptos ...</td>\n",
       "      <td>166</td>\n",
       "      <td>es</td>\n",
       "      <td>Conceptos y Herramientas para la Física Univer...</td>\n",
       "      <td>Coursera</td>\n",
       "      <td>[curs, prove, estudi, concept, herramient, mat...</td>\n",
       "    </tr>\n",
       "    <tr>\n",
       "      <th>4</th>\n",
       "      <td>192</td>\n",
       "      <td>9/humanities</td>\n",
       "      <td>Este curso introduce a los estudiantes de grad...</td>\n",
       "      <td>196</td>\n",
       "      <td>es</td>\n",
       "      <td>Egiptología (Egyptology)</td>\n",
       "      <td>Coursera</td>\n",
       "      <td>[curs, introduc, estudi, grad, public, habl, h...</td>\n",
       "    </tr>\n",
       "  </tbody>\n",
       "</table>\n",
       "</div>"
      ],
      "text/plain": [
       "   index                                                cat  \\\n",
       "0     55                                                      \n",
       "1    120               2/biology_life_sciences|9/humanities   \n",
       "2    156  8/engineering_technology|9/humanities|14/socia...   \n",
       "3    162  7/energy_earth_sciences|9/humanities|13/physic...   \n",
       "4    192                                       9/humanities   \n",
       "\n",
       "                                                desc   id lang  \\\n",
       "0  A través de diferentes actividades de campo el...   59   es   \n",
       "1  Aprenderemos cómo podemos usar el pensamiento ...  124   es   \n",
       "2  ¡Claro que todos podemos potenciar nuestra cre...  160   es   \n",
       "3  Este curso provee al estudiante con conceptos ...  166   es   \n",
       "4  Este curso introduce a los estudiantes de grad...  196   es   \n",
       "\n",
       "                                                name  provider  \\\n",
       "0                  El ABC del emprendimiento esbelto  Coursera   \n",
       "1                             Pensamiento Científico  Coursera   \n",
       "2                                  Ser más creativos  Coursera   \n",
       "3  Conceptos y Herramientas para la Física Univer...  Coursera   \n",
       "4                           Egiptología (Egyptology)  Coursera   \n",
       "\n",
       "                                          desc_words  \n",
       "0  [traves, diferent, activ, camp, particip, pers...  \n",
       "1  [aprend, usar, pensamient, cientif, cotidian, ...  \n",
       "2  [clar, potenci, creativ, traves, proced, rutin...  \n",
       "3  [curs, prove, estudi, concept, herramient, mat...  \n",
       "4  [curs, introduc, estudi, grad, public, habl, h...  "
      ]
     },
     "execution_count": 60,
     "metadata": {},
     "output_type": "execute_result"
    }
   ],
   "source": [
    "data_es = data_es_t.copy()\n",
    "data_es.head()"
   ]
  },
  {
   "cell_type": "code",
   "execution_count": 61,
   "metadata": {},
   "outputs": [
    {
     "data": {
      "text/html": [
       "<div>\n",
       "<style scoped>\n",
       "    .dataframe tbody tr th:only-of-type {\n",
       "        vertical-align: middle;\n",
       "    }\n",
       "\n",
       "    .dataframe tbody tr th {\n",
       "        vertical-align: top;\n",
       "    }\n",
       "\n",
       "    .dataframe thead th {\n",
       "        text-align: right;\n",
       "    }\n",
       "</style>\n",
       "<table border=\"1\" class=\"dataframe\">\n",
       "  <thead>\n",
       "    <tr style=\"text-align: right;\">\n",
       "      <th></th>\n",
       "      <th>index</th>\n",
       "      <th>cat</th>\n",
       "      <th>desc</th>\n",
       "      <th>id</th>\n",
       "      <th>lang</th>\n",
       "      <th>name</th>\n",
       "      <th>provider</th>\n",
       "      <th>desc_words</th>\n",
       "    </tr>\n",
       "  </thead>\n",
       "  <tbody>\n",
       "    <tr>\n",
       "      <th>0</th>\n",
       "      <td>17977</td>\n",
       "      <td></td>\n",
       "      <td>Prácticas para convertirse en un gran orador,...</td>\n",
       "      <td>18030</td>\n",
       "      <td>es</td>\n",
       "      <td>Ejercicios Preparatorios Para Hablar en Públic...</td>\n",
       "      <td>Udemy</td>\n",
       "      <td>[practic, convert, gran, orador, expositor, pr...</td>\n",
       "    </tr>\n",
       "    <tr>\n",
       "      <th>1</th>\n",
       "      <td>120</td>\n",
       "      <td>2/biology_life_sciences|9/humanities</td>\n",
       "      <td>Aprenderemos cómo podemos usar el pensamiento ...</td>\n",
       "      <td>124</td>\n",
       "      <td>es</td>\n",
       "      <td>Pensamiento Científico</td>\n",
       "      <td>Coursera</td>\n",
       "      <td>[aprend, usar, pensamient, cientif, cotidian, ...</td>\n",
       "    </tr>\n",
       "    <tr>\n",
       "      <th>2</th>\n",
       "      <td>156</td>\n",
       "      <td>8/engineering_technology|9/humanities|14/socia...</td>\n",
       "      <td>¡Claro que todos podemos potenciar nuestra cre...</td>\n",
       "      <td>160</td>\n",
       "      <td>es</td>\n",
       "      <td>Ser más creativos</td>\n",
       "      <td>Coursera</td>\n",
       "      <td>[clar, potenci, creativ, traves, proced, rutin...</td>\n",
       "    </tr>\n",
       "    <tr>\n",
       "      <th>3</th>\n",
       "      <td>162</td>\n",
       "      <td>7/energy_earth_sciences|9/humanities|13/physic...</td>\n",
       "      <td>Este curso provee al estudiante con conceptos ...</td>\n",
       "      <td>166</td>\n",
       "      <td>es</td>\n",
       "      <td>Conceptos y Herramientas para la Física Univer...</td>\n",
       "      <td>Coursera</td>\n",
       "      <td>[curs, prove, estudi, concept, herramient, mat...</td>\n",
       "    </tr>\n",
       "    <tr>\n",
       "      <th>4</th>\n",
       "      <td>192</td>\n",
       "      <td>9/humanities</td>\n",
       "      <td>Este curso introduce a los estudiantes de grad...</td>\n",
       "      <td>196</td>\n",
       "      <td>es</td>\n",
       "      <td>Egiptología (Egyptology)</td>\n",
       "      <td>Coursera</td>\n",
       "      <td>[curs, introduc, estudi, grad, public, habl, h...</td>\n",
       "    </tr>\n",
       "  </tbody>\n",
       "</table>\n",
       "</div>"
      ],
      "text/plain": [
       "   index                                                cat  \\\n",
       "0  17977                                                      \n",
       "1    120               2/biology_life_sciences|9/humanities   \n",
       "2    156  8/engineering_technology|9/humanities|14/socia...   \n",
       "3    162  7/energy_earth_sciences|9/humanities|13/physic...   \n",
       "4    192                                       9/humanities   \n",
       "\n",
       "                                                desc     id lang  \\\n",
       "0   Prácticas para convertirse en un gran orador,...  18030   es   \n",
       "1  Aprenderemos cómo podemos usar el pensamiento ...    124   es   \n",
       "2  ¡Claro que todos podemos potenciar nuestra cre...    160   es   \n",
       "3  Este curso provee al estudiante con conceptos ...    166   es   \n",
       "4  Este curso introduce a los estudiantes de grad...    196   es   \n",
       "\n",
       "                                                name  provider  \\\n",
       "0  Ejercicios Preparatorios Para Hablar en Públic...     Udemy   \n",
       "1                             Pensamiento Científico  Coursera   \n",
       "2                                  Ser más creativos  Coursera   \n",
       "3  Conceptos y Herramientas para la Física Univer...  Coursera   \n",
       "4                           Egiptología (Egyptology)  Coursera   \n",
       "\n",
       "                                          desc_words  \n",
       "0  [practic, convert, gran, orador, expositor, pr...  \n",
       "1  [aprend, usar, pensamient, cientif, cotidian, ...  \n",
       "2  [clar, potenci, creativ, traves, proced, rutin...  \n",
       "3  [curs, prove, estudi, concept, herramient, mat...  \n",
       "4  [curs, introduc, estudi, grad, public, habl, h...  "
      ]
     },
     "execution_count": 61,
     "metadata": {},
     "output_type": "execute_result"
    }
   ],
   "source": [
    "b, c = data_es.iloc[0], data_es.iloc[978]\n",
    "temp = data_es.iloc[0].copy()\n",
    "data_es.iloc[0] = c\n",
    "data_es.iloc[978] = temp\n",
    "data_es.head()"
   ]
  },
  {
   "cell_type": "code",
   "execution_count": 62,
   "metadata": {},
   "outputs": [
    {
     "name": "stdout",
     "output_type": "stream",
     "text": [
      "CPU times: user 7.04 s, sys: 0 ns, total: 7.04 s\n",
      "Wall time: 920 ms\n"
     ]
    }
   ],
   "source": [
    "%%time\n",
    "vectorizer_es = TfidfVectorizer()\n",
    "data_es[\"desc_words\"] = data_es[\"desc_words\"].apply(' '.join)\n",
    "matrix = vectorizer_es.fit_transform(data_es[\"desc_words\"]).toarray()"
   ]
  },
  {
   "cell_type": "code",
   "execution_count": 63,
   "metadata": {},
   "outputs": [
    {
     "data": {
      "text/plain": [
       "(1, 1373)"
      ]
     },
     "execution_count": 63,
     "metadata": {},
     "output_type": "execute_result"
    }
   ],
   "source": [
    "cos_m = cosine_similarity(matrix[0].reshape(1,-1), matrix[1:])\n",
    "cos_m.shape"
   ]
  },
  {
   "cell_type": "code",
   "execution_count": 64,
   "metadata": {},
   "outputs": [
    {
     "data": {
      "text/plain": [
       "array([[0.04559749],\n",
       "       [0.08821277],\n",
       "       [0.03039114],\n",
       "       ...,\n",
       "       [0.04180021],\n",
       "       [0.03240683],\n",
       "       [0.04131665]])"
      ]
     },
     "execution_count": 64,
     "metadata": {},
     "output_type": "execute_result"
    }
   ],
   "source": [
    "cos_m = cos_m.reshape(1373,1)\n",
    "cos_m"
   ]
  },
  {
   "cell_type": "code",
   "execution_count": 65,
   "metadata": {},
   "outputs": [
    {
     "data": {
      "text/html": [
       "<div>\n",
       "<style scoped>\n",
       "    .dataframe tbody tr th:only-of-type {\n",
       "        vertical-align: middle;\n",
       "    }\n",
       "\n",
       "    .dataframe tbody tr th {\n",
       "        vertical-align: top;\n",
       "    }\n",
       "\n",
       "    .dataframe thead th {\n",
       "        text-align: right;\n",
       "    }\n",
       "</style>\n",
       "<table border=\"1\" class=\"dataframe\">\n",
       "  <thead>\n",
       "    <tr style=\"text-align: right;\">\n",
       "      <th></th>\n",
       "      <th>0</th>\n",
       "    </tr>\n",
       "  </thead>\n",
       "  <tbody>\n",
       "    <tr>\n",
       "      <th>0</th>\n",
       "      <td>0.045597</td>\n",
       "    </tr>\n",
       "    <tr>\n",
       "      <th>1</th>\n",
       "      <td>0.088213</td>\n",
       "    </tr>\n",
       "    <tr>\n",
       "      <th>2</th>\n",
       "      <td>0.030391</td>\n",
       "    </tr>\n",
       "    <tr>\n",
       "      <th>3</th>\n",
       "      <td>0.047591</td>\n",
       "    </tr>\n",
       "    <tr>\n",
       "      <th>4</th>\n",
       "      <td>0.055592</td>\n",
       "    </tr>\n",
       "  </tbody>\n",
       "</table>\n",
       "</div>"
      ],
      "text/plain": [
       "          0\n",
       "0  0.045597\n",
       "1  0.088213\n",
       "2  0.030391\n",
       "3  0.047591\n",
       "4  0.055592"
      ]
     },
     "execution_count": 65,
     "metadata": {},
     "output_type": "execute_result"
    }
   ],
   "source": [
    "cos_df = pd.DataFrame(cos_m)\n",
    "cos_df.head()"
   ]
  },
  {
   "cell_type": "code",
   "execution_count": 66,
   "metadata": {},
   "outputs": [
    {
     "data": {
      "text/plain": [
       "Int64Index([242, 157, 268, 313, 660, 1069, 814, 927, 726, 434], dtype='int64')"
      ]
     },
     "execution_count": 66,
     "metadata": {},
     "output_type": "execute_result"
    }
   ],
   "source": [
    "index_list_es_18030 = cos_df.sort_values(0,ascending=False).head(10).index\n",
    "index_list_es_18030"
   ]
  },
  {
   "cell_type": "code",
   "execution_count": 67,
   "metadata": {},
   "outputs": [
    {
     "data": {
      "text/plain": [
       "[8869, 6648, 9042, 9326, 12246, 21053, 13102, 17731, 12468, 10285]"
      ]
     },
     "execution_count": 67,
     "metadata": {},
     "output_type": "execute_result"
    }
   ],
   "source": [
    "index_list_es_18030 = index_list_es_18030 + 1\n",
    "index_list_es_18030 = data_es.ix[index_list_es_18030][\"id\"].tolist()\n",
    "index_list_es_18030"
   ]
  },
  {
   "cell_type": "markdown",
   "metadata": {},
   "source": [
    "ВЫГРУЗКА"
   ]
  },
  {
   "cell_type": "code",
   "execution_count": 80,
   "metadata": {},
   "outputs": [
    {
     "data": {
      "text/plain": [
       "{'16871': [20182,\n",
       "  12363,\n",
       "  19809,\n",
       "  12952,\n",
       "  13127,\n",
       "  20183,\n",
       "  19810,\n",
       "  13125,\n",
       "  20534,\n",
       "  26272],\n",
       " '12234': [23256, 2164, 2162, 2161, 8101, 1765, 12384, 11273, 164, 2160],\n",
       " '9029': [23114, 8098, 3660, 6864, 26336, 26670, 21400, 4096, 22680, 19677],\n",
       " '18030': [23114, 8098, 3660, 6864, 26336, 26670, 21400, 4096, 22680, 19677],\n",
       " '8170': [8169, 20352, 1310, 867, 20291, 17127, 20103, 793, 1311, 20362],\n",
       " '1200': [1204, 952, 767, 8159, 1208, 1199, 1206, 20306, 1205, 5216]}"
      ]
     },
     "execution_count": 80,
     "metadata": {},
     "output_type": "execute_result"
    }
   ],
   "source": [
    "output = {\n",
    "    \"16871\":index_list_en_16871, \n",
    "    \"12234\": index_list_en_12234, \n",
    "    \"9029\": [23114, 8098, 3660, 6864, 26336, 26670, 21400, 4096, 22680, 19677],\n",
    "    \"18030\": [23114, 8098, 3660, 6864, 26336, 26670, 21400, 4096, 22680, 19677],\n",
    "    \"8170\": index_list_ru_8170, \n",
    "    \"1200\": index_list_ru_1200}\n",
    "output"
   ]
  },
  {
   "cell_type": "code",
   "execution_count": 81,
   "metadata": {},
   "outputs": [
    {
     "data": {
      "text/plain": [
       "'{\"16871\": [20182, 12363, 19809, 12952, 13127, 20183, 19810, 13125, 20534, 26272], \"12234\": [23256, 2164, 2162, 2161, 8101, 1765, 12384, 11273, 164, 2160], \"9029\": [23114, 8098, 3660, 6864, 26336, 26670, 21400, 4096, 22680, 19677], \"18030\": [23114, 8098, 3660, 6864, 26336, 26670, 21400, 4096, 22680, 19677], \"8170\": [8169, 20352, 1310, 867, 20291, 17127, 20103, 793, 1311, 20362], \"1200\": [1204, 952, 767, 8159, 1208, 1199, 1206, 20306, 1205, 5216]}'"
      ]
     },
     "execution_count": 81,
     "metadata": {},
     "output_type": "execute_result"
    }
   ],
   "source": [
    "json_data = json.dumps(output)\n",
    "json_data"
   ]
  },
  {
   "cell_type": "code",
   "execution_count": 82,
   "metadata": {},
   "outputs": [],
   "source": [
    "with open('../lab07.json', 'w') as f:\n",
    "    json.dump(output, f)"
   ]
  },
  {
   "cell_type": "code",
   "execution_count": 83,
   "metadata": {},
   "outputs": [],
   "source": [
    "with open('../lab07s.json', 'w') as f:\n",
    "    json.dump(output, f)"
   ]
  }
 ],
 "metadata": {
  "kernelspec": {
   "display_name": "Python 3",
   "language": "python",
   "name": "python3"
  },
  "language_info": {
   "codemirror_mode": {
    "name": "ipython",
    "version": 3
   },
   "file_extension": ".py",
   "mimetype": "text/x-python",
   "name": "python",
   "nbconvert_exporter": "python",
   "pygments_lexer": "ipython3",
   "version": "3.6.5"
  }
 },
 "nbformat": 4,
 "nbformat_minor": 2
}
